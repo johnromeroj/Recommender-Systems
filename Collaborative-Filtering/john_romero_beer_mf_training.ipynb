{
 "cells": [
  {
   "cell_type": "markdown",
   "metadata": {
    "application/vnd.databricks.v1+cell": {
     "cellMetadata": {
      "byteLimit": 2048000,
      "rowLimit": 10000
     },
     "inputWidgets": {},
     "nuid": "f9024233-f075-4b04-950d-3520cd676920",
     "showTitle": false,
     "title": ""
    }
   },
   "source": [
    "# Beer Recommendation ALS Model Fitting\n",
    "\n",
    "This notebook contains the code to train and save the ALS matrix factorization model, as well as a csv of predicted ratings for the top beers for each user.\n",
    "\n",
    "## Preamble"
   ]
  },
  {
   "cell_type": "code",
   "execution_count": 0,
   "metadata": {
    "application/vnd.databricks.v1+cell": {
     "cellMetadata": {
      "byteLimit": 2048000,
      "rowLimit": 10000
     },
     "inputWidgets": {},
     "nuid": "70553ef2-d528-440e-be41-ae7e8ea88d50",
     "showTitle": false,
     "title": ""
    }
   },
   "outputs": [],
   "source": [
    "# Importing Dependencies \n",
    "from  pyspark.sql.types import StructField, StructType, StringType, LongType, FloatType\n",
    "import pyspark.sql.functions as f \n",
    "import pandas as pd\n",
    "import numpy as np \n",
    "import datetime \n",
    "\n",
    "# Defining all dbfs file paths\n",
    "base_dir = 'dbfs:/FileStore/tables'\n",
    "project_dir = base_dir + '/Capstone'\n",
    "beer_dir = project_dir + '/beer'\n",
    "\n",
    "data_dir = beer_dir + '/data'\n",
    "mf_model_dir = beer_dir + '/beer_mf_model'\n",
    "\n",
    "rec_dir = beer_dir + '/beer_recs'\n",
    "exp_rec_dir = rec_dir + '/experienced'\n",
    "new_rec_dir = rec_dir + '/new'\n",
    "\n",
    "# Making all requisite directories if needed\n",
    "for dirname in [project_dir, beer_dir, data_dir, mf_model_dir, rec_dir, exp_rec_dir, new_rec_dir]: \n",
    "    try: dbutils.fs.ls(dirname)\n",
    "    except: dbutils.fs.mkdirs(dirname) \n",
    "\n",
    "# Schema For raw beer dataframe \n",
    "# Specifies column name, type and whether values are nullable\n",
    "beerSchema = StructType([\n",
    "    StructField('brewery_id', LongType(), True), \n",
    "    StructField('brewery_name', StringType(), True), \n",
    "    StructField('review_time', LongType(), True), \n",
    "    StructField('review_overall', FloatType(), True), \n",
    "    StructField('review_aroma', FloatType(), True), \n",
    "    StructField('review_apperance', FloatType(), True), \n",
    "    StructField('review_profilename', StringType(), True), \n",
    "    StructField('beer_style', StringType(), True), \n",
    "    StructField('review_palate', FloatType(), True), \n",
    "    StructField('review_taste', FloatType(), True), \n",
    "    StructField('beer_name', StringType(), True), \n",
    "    StructField('beer_abv', FloatType(), True), \n",
    "    StructField('beer_beerid', LongType(), True)\n",
    "])\n",
    "\n",
    "# Checking if file is in correct directory, otherwise moving it \n",
    "try: dbutils.fs.ls(data_dir + '/beer_reviews.csv')\n",
    "except: dbutils.fs.cp(base_dir + '/beer_reviews.csv', data_dir)\n",
    "\n",
    "# Loading the raw data file \n",
    "raw = spark.read.load(path = data_dir + '/beer_reviews.csv', \n",
    "                      format='csv', header=True, schema= beerSchema)"
   ]
  },
  {
   "cell_type": "markdown",
   "metadata": {
    "application/vnd.databricks.v1+cell": {
     "cellMetadata": {
      "byteLimit": 2048000,
      "rowLimit": 10000
     },
     "inputWidgets": {},
     "nuid": "3ef33b4a-94c8-4d30-a439-c7608f5da55b",
     "showTitle": false,
     "title": ""
    }
   },
   "source": [
    "## Displaying Missing Values for all columns "
   ]
  },
  {
   "cell_type": "code",
   "execution_count": 0,
   "metadata": {
    "application/vnd.databricks.v1+cell": {
     "cellMetadata": {
      "byteLimit": 2048000,
      "rowLimit": 10000
     },
     "inputWidgets": {},
     "nuid": "0d9687da-ee05-48a5-9102-5412b0d78426",
     "showTitle": false,
     "title": ""
    }
   },
   "outputs": [
    {
     "output_type": "stream",
     "name": "stdout",
     "output_type": "stream",
     "text": [
      "-RECORD 0-------------------\n brewery_id         | 0     \n brewery_name       | 15    \n review_time        | 0     \n review_overall     | 0     \n review_aroma       | 0     \n review_apperance   | 0     \n review_profilename | 348   \n beer_style         | 0     \n review_palate      | 0     \n review_taste       | 0     \n beer_name          | 0     \n beer_abv           | 67785 \n beer_beerid        | 0     \n\n"
     ]
    }
   ],
   "source": [
    "null_ct = [f.sum(f.when(f.col(c).isNull(), 1).otherwise(0)).alias(c) for c in raw.columns]\n",
    "raw.select(null_ct).show(vertical=True)"
   ]
  },
  {
   "cell_type": "markdown",
   "metadata": {
    "application/vnd.databricks.v1+cell": {
     "cellMetadata": {
      "byteLimit": 2048000,
      "rowLimit": 10000
     },
     "inputWidgets": {},
     "nuid": "c498994c-2416-4ae3-9b87-cd4cb4d1f2ac",
     "showTitle": false,
     "title": ""
    }
   },
   "source": [
    "## Preprocessing Data"
   ]
  },
  {
   "cell_type": "code",
   "execution_count": 0,
   "metadata": {
    "application/vnd.databricks.v1+cell": {
     "cellMetadata": {
      "byteLimit": 2048000,
      "rowLimit": 10000
     },
     "inputWidgets": {},
     "nuid": "e9ff33dd-6ca4-47e2-952d-6710e9ea5318",
     "showTitle": false,
     "title": ""
    }
   },
   "outputs": [
    {
     "output_type": "stream",
     "name": "stdout",
     "output_type": "stream",
     "text": [
      "\nNumber of Duplicated Reviews: 14274\n(Instance of the same person reviewing the same beer more than once.)\n\n"
     ]
    }
   ],
   "source": [
    "# Selecting requisite columns\n",
    "# Dropping any missing values in these columns \n",
    "\n",
    "taste_revs_raw = raw.select(f.col('review_profilename').alias('username'), \n",
    "                            'beer_beerid', 'review_taste', 'review_time')\\\n",
    "    .na.drop()\n",
    "\n",
    "# Checking for duplicated reviews\n",
    "n_dups = taste_revs_raw.groupBy([\"username\", \"beer_beerid\"]).count().filter(\"count > 1\").count()\n",
    "print(f'''\n",
    "Number of Duplicated Reviews: {n_dups}\n",
    "(Instance of the same person reviewing the same beer more than once.)\n",
    "''' )\n",
    "\n",
    "# Aggregating Duplicate Reviews \n",
    "taste_revs_raw = taste_revs_raw.groupBy(['username', 'beer_beerid'])\\\n",
    "        .agg(f.mean(f.col('review_taste')).alias('review_taste'), \n",
    "             f.mean(f.col('review_time')).alias('review_time'))\n"
   ]
  },
  {
   "cell_type": "code",
   "execution_count": 0,
   "metadata": {
    "application/vnd.databricks.v1+cell": {
     "cellMetadata": {
      "byteLimit": 2048000,
      "rowLimit": 10000
     },
     "inputWidgets": {},
     "nuid": "1b27e063-e2af-4222-9526-fd4f97e77804",
     "showTitle": false,
     "title": ""
    }
   },
   "outputs": [],
   "source": [
    "# Calculating Time Cutoff for 80-20 split \n",
    "time_cutoff = taste_revs_raw.select(f.percentile(f.col('review_time'), 0.8).alias('percentile')).first()['percentile']\n",
    "# Conducting train-validate split \n",
    "train_raw = taste_revs_raw.filter(f.col('review_time') <= time_cutoff)\n",
    "val_raw = taste_revs_raw.subtract(train_raw)\n"
   ]
  },
  {
   "cell_type": "code",
   "execution_count": 0,
   "metadata": {
    "application/vnd.databricks.v1+cell": {
     "cellMetadata": {
      "byteLimit": 2048000,
      "rowLimit": 10000
     },
     "inputWidgets": {},
     "nuid": "a1c8076b-3218-4938-bfea-306ae302f0a3",
     "showTitle": false,
     "title": ""
    }
   },
   "outputs": [
    {
     "output_type": "stream",
     "name": "stdout",
     "output_type": "stream",
     "text": [
      "2011-01-27\n"
     ]
    }
   ],
   "source": [
    "# Displaying cutoff date\n",
    "print(datetime.date.fromtimestamp(time_cutoff))"
   ]
  },
  {
   "cell_type": "code",
   "execution_count": 0,
   "metadata": {
    "application/vnd.databricks.v1+cell": {
     "cellMetadata": {
      "byteLimit": 2048000,
      "rowLimit": 10000
     },
     "inputWidgets": {},
     "nuid": "1c4e60e2-de54-498c-9fc3-779283a9c205",
     "showTitle": false,
     "title": ""
    }
   },
   "outputs": [],
   "source": [
    "train_raw = train_raw.select('username', 'beer_beerid', 'review_taste')\n",
    "val_raw = val_raw.select('username',  'beer_beerid', 'review_taste')"
   ]
  },
  {
   "cell_type": "code",
   "execution_count": 0,
   "metadata": {
    "application/vnd.databricks.v1+cell": {
     "cellMetadata": {
      "byteLimit": 2048000,
      "rowLimit": 10000
     },
     "inputWidgets": {},
     "nuid": "11620f2b-51ff-4057-ae7b-3a11ad0cd545",
     "showTitle": false,
     "title": ""
    }
   },
   "outputs": [],
   "source": [
    "### Setting the Min Reviews per Beer and Min positive reviews per User \n",
    "# Min positive user reviews\n",
    "minRevsPerUser = 3\n",
    "# Min Reviews per Beer \n",
    "minRevsPerBeer = 50\n",
    "\n",
    "# Getting usernames of experienced users (at or above cutoff)\n",
    "expUsers = train_raw.filter(f.col('review_taste') >= 3).groupBy('username').count()\\\n",
    "    .filter(f.col('count') >= minRevsPerUser).select('username')\n",
    "\n",
    "# Getting IDs of beers above review cutoffs\n",
    "commonBeers = train_raw.groupBy('beer_beerid').count()\\\n",
    "    .filter(f.col('count') > minRevsPerBeer).select('beer_beerid')\n",
    "\n",
    "# Removing beers and users through broadcast join (most efficient way)\n",
    "als_train = train_raw\\\n",
    "    .join(f.broadcast(commonBeers), 'beer_beerid', 'left_semi')\\\n",
    "        .join(f.broadcast(expUsers), 'username', 'left_semi')\n",
    "als_train = als_train.persist() # persisting DFs to memory saves having to recalculate them\n",
    "\n",
    "# Only keep validation set where beer and username are in the training set \n",
    "als_val = val_raw\\\n",
    "    .join(f.broadcast(als_train.select('beer_beerid')), 'beer_beerid', 'left_semi')\\\n",
    "        .join(f.broadcast(als_train.select('username')), 'username', 'left_semi')\n",
    "als_val = als_val.persist()"
   ]
  },
  {
   "cell_type": "code",
   "execution_count": 0,
   "metadata": {
    "application/vnd.databricks.v1+cell": {
     "cellMetadata": {
      "byteLimit": 2048000,
      "rowLimit": 10000
     },
     "inputWidgets": {},
     "nuid": "a59ca499-dac1-4ff2-9cfc-213236fe5265",
     "showTitle": false,
     "title": ""
    }
   },
   "outputs": [
    {
     "output_type": "stream",
     "name": "stdout",
     "output_type": "stream",
     "text": [
      "Training Set Counts:\nNumber of Users: 14662\nNumber of Beers: 4189\nNumber of Reviews: 974199\n"
     ]
    }
   ],
   "source": [
    "# Displaying user, beer and review count (slow)\n",
    "print('Training Set Counts:')\n",
    "print(f'Number of Users: {als_train.select(\"username\").distinct().count()}')\n",
    "print(f'Number of Beers: {als_train.select(\"beer_beerid\").distinct().count()}')\n",
    "print(f'Number of Reviews: {als_train.count()}')"
   ]
  },
  {
   "cell_type": "code",
   "execution_count": 0,
   "metadata": {
    "application/vnd.databricks.v1+cell": {
     "cellMetadata": {
      "byteLimit": 2048000,
      "rowLimit": 10000
     },
     "inputWidgets": {},
     "nuid": "0e93e1f8-8765-40e7-ae38-22c398aa5fa4",
     "showTitle": false,
     "title": ""
    }
   },
   "outputs": [
    {
     "output_type": "stream",
     "name": "stdout",
     "output_type": "stream",
     "text": [
      "Validation Set Counts\nNumber of Users: 4125\nNumber of Beers: 3870\nNumber of Reviews: 127716\n"
     ]
    }
   ],
   "source": [
    "# Displaying user, beer and review count (slow)\n",
    "print('Validation Set Counts')\n",
    "print(f'Number of Users: {als_val.select(\"username\").distinct().count()}')\n",
    "print(f'Number of Beers: {als_val.select(\"beer_beerid\").distinct().count()}')\n",
    "print(f'Number of Reviews: {als_val.count()}')"
   ]
  },
  {
   "cell_type": "markdown",
   "metadata": {
    "application/vnd.databricks.v1+cell": {
     "cellMetadata": {
      "byteLimit": 2048000,
      "rowLimit": 10000
     },
     "inputWidgets": {},
     "nuid": "940814a0-537d-4af9-9999-ea9dc278a7b9",
     "showTitle": false,
     "title": ""
    }
   },
   "source": [
    "## Fitting and Saving ALS Model"
   ]
  },
  {
   "cell_type": "code",
   "execution_count": 0,
   "metadata": {
    "application/vnd.databricks.v1+cell": {
     "cellMetadata": {
      "byteLimit": 2048000,
      "rowLimit": 10000
     },
     "inputWidgets": {},
     "nuid": "14060541-af3c-4b86-822a-d1d32ab64e84",
     "showTitle": false,
     "title": ""
    }
   },
   "outputs": [],
   "source": [
    "# Importing dependencies \n",
    "from pyspark.ml.recommendation import ALS\n",
    "from pyspark.ml.feature import StringIndexer\n",
    "from pyspark.ml.pipeline import Pipeline \n",
    "from pyspark.ml.tuning import ParamGridBuilder, CrossValidator, CrossValidatorModel\n",
    "from pyspark.ml.evaluation import RegressionEvaluator\n",
    "from pyspark.ml.recommendation import ALSModel\n",
    "\n",
    "# Adding ID Numbers for each username \n",
    "# ALS model prefers numeric column for User column \n",
    "strIndex = StringIndexer(inputCol = 'username', outputCol = 'user_id')\n",
    "str_idxer = strIndex.fit(als_train)\n",
    "\n",
    "fin_als_train = str_idxer.transform(als_train).persist()\n",
    "fin_als_val = str_idxer.transform(als_val).persist()\n",
    "\n",
    "als_val = als_val.unpersist()\n",
    "als_train = als_val.unpersist()\n",
    "\n",
    "# Retrain or Load Model\n",
    "retrain = False \n",
    "\n",
    "if retrain: \n",
    "        \n",
    "        ### Code to perform grid search and/or cross validation, saved here for illustration \n",
    "        ### very slow so commented out \n",
    "\n",
    "        # als = ALS(userCol = 'user_id',\n",
    "        #         itemCol = 'beer_beerid',\n",
    "        #         ratingCol = 'review_taste',\n",
    "        #         coldStartStrategy = 'drop' ,\n",
    "        #         maxIter=20,\n",
    "        #         nonnegative=True)\n",
    "\n",
    "        # paramGrid = ParamGridBuilder()\\\n",
    "        #         .addGrid(als.rank, [10, 15, 20])\\\n",
    "        #         .addGrid(als.regParam, [0.5, 0.1, 0.15])\\\n",
    "        #         .build()\n",
    "\n",
    "        # evaluator = RegressionEvaluator(metricName='rmse', \n",
    "        #                                 labelCol='review_taste', \n",
    "        #                                 predictionCol='prediction')\n",
    "\n",
    "        # cv = CrossValidator(\n",
    "        #         estimator=als,\n",
    "        #         estimatorParamMaps=paramGrid,\n",
    "        #         evaluator=evaluator,\n",
    "        #         parallelism=10,\n",
    "        #         numFolds=3)\n",
    "\n",
    "        # cv_model = cv.fit(fin_als_train)\n",
    "\n",
    "        # best_model = cv_model.bestModel\n",
    "        # print('rank: ', best_model.rank)\n",
    "        # print('RegParam: ', best_model._java_obj.parent().getRegParam())\n",
    "\n",
    "        # sorted(cv_model.avgMetrics, reverse=False)\n",
    "\n",
    "        # Fitting ALS model using 15 latent factors and a regularization of 0.1\n",
    "        als = ALS(\n",
    "                # Hyperparameters\n",
    "                rank = 15,      #best_model.rank, \n",
    "                regParam = 0.1, #best_model._java_obj.parent().getRegParam(), \n",
    "                # Columns from training data \n",
    "                userCol = 'user_id',\n",
    "                itemCol = 'beer_beerid',\n",
    "                ratingCol = 'review_taste',\n",
    "                coldStartStrategy='drop',\n",
    "                maxIter=20,\n",
    "                # No prediction should be negative\n",
    "                nonnegative=True\n",
    "                )\n",
    "\n",
    "        # Fit the model and write to dbfs\n",
    "        model = als.fit(fin_als_train)\n",
    "        model.write().overwrite().save(mf_model_dir)\n",
    "else: \n",
    "        # Load the model so it doesn't have to refit\n",
    "        model = ALSModel.load(mf_model_dir)"
   ]
  },
  {
   "cell_type": "markdown",
   "metadata": {
    "application/vnd.databricks.v1+cell": {
     "cellMetadata": {
      "byteLimit": 2048000,
      "rowLimit": 10000
     },
     "inputWidgets": {},
     "nuid": "d94e9e61-1720-4c27-b47b-c783c6f5dbe7",
     "showTitle": false,
     "title": ""
    }
   },
   "source": [
    "## Evaluate Fitted ALS Model by RMSE"
   ]
  },
  {
   "cell_type": "code",
   "execution_count": 0,
   "metadata": {
    "application/vnd.databricks.v1+cell": {
     "cellMetadata": {
      "byteLimit": 2048000,
      "rowLimit": 10000
     },
     "inputWidgets": {},
     "nuid": "2a7edbbd-dab8-43bc-bc63-aa0edad5d558",
     "showTitle": false,
     "title": ""
    }
   },
   "outputs": [
    {
     "output_type": "stream",
     "name": "stdout",
     "output_type": "stream",
     "text": [
      "Training RMSE: 0.5277\nValidation RMSE: 0.5329\n"
     ]
    }
   ],
   "source": [
    "evaluator = RegressionEvaluator(metricName='rmse', \n",
    "                                labelCol='review_taste', \n",
    "                                predictionCol='prediction')\n",
    "\n",
    "trainPreds = model.transform(fin_als_train)\n",
    "train_rmse = evaluator.evaluate(trainPreds)\n",
    "\n",
    "valPreds = model.transform(fin_als_val)\n",
    "val_rmse = evaluator.evaluate(valPreds)\n",
    "\n",
    "print(f'Training RMSE: {round(train_rmse, 4)}')\n",
    "print(f'Validation RMSE: {round(val_rmse, 4)}')"
   ]
  },
  {
   "cell_type": "markdown",
   "metadata": {
    "application/vnd.databricks.v1+cell": {
     "cellMetadata": {
      "byteLimit": 2048000,
      "rowLimit": 10000
     },
     "inputWidgets": {},
     "nuid": "52819a81-79e8-4de0-957d-123bef418618",
     "showTitle": false,
     "title": ""
    }
   },
   "source": [
    "## Save Recommendations for Experienced Users"
   ]
  },
  {
   "cell_type": "code",
   "execution_count": 0,
   "metadata": {
    "application/vnd.databricks.v1+cell": {
     "cellMetadata": {
      "byteLimit": 2048000,
      "rowLimit": 10000
     },
     "inputWidgets": {},
     "nuid": "7da4c8f4-9913-4489-bc3e-131cf4389b75",
     "showTitle": false,
     "title": ""
    }
   },
   "outputs": [],
   "source": [
    "# DF mapping of internal ID number \n",
    "user_map = fin_als_train.select('username', 'user_id').distinct()\n",
    "\n",
    "# Make Recommendations \n",
    "all_recs = model.recommendForAllUsers(10)\n",
    "\n",
    "# Add username to recommendations \n",
    "all_recs = all_recs.join(f.broadcast(user_map), 'user_id', 'inner')\n",
    "\n",
    "# Explode predictions column to get one prediction per line \n",
    "# Select and rename needed columns \n",
    "all_recs = all_recs.select('username', f.explode('recommendations').alias('recs'))\\\n",
    "        .select(f.lower(f.col('username')).alias('username'), \n",
    "                'recs.beer_beerid', \n",
    "                f.col('recs.rating').alias('predRating'))\n",
    "\n",
    "# Add beer and brewery names to dataframe\n",
    "all_recs = all_recs.join(\n",
    "    f.broadcast(raw.select('beer_beerid', 'brewery_name', 'beer_name').distinct()), 'beer_beerid', 'left_outer')\\\n",
    "\n",
    "# Write the recommendations to csv for future queries\n",
    "all_recs.write.option(\"header\",True)\\\n",
    "    .format(\"csv\") \\\n",
    "        .mode(\"overwrite\") \\\n",
    "            .save(exp_rec_dir + \"/exp_user_recommendations.csv\")\n"
   ]
  },
  {
   "cell_type": "markdown",
   "metadata": {
    "application/vnd.databricks.v1+cell": {
     "cellMetadata": {
      "byteLimit": 2048000,
      "rowLimit": 10000
     },
     "inputWidgets": {},
     "nuid": "471d5423-6a20-4d16-9cb1-5b5b3d2eed0a",
     "showTitle": false,
     "title": ""
    }
   },
   "source": [
    "## Display Examples of Predicted Ratings CSV\n",
    "\n",
    "Shows 20 examples of predicted ratings for users. These are from each users top 10 predicted ratings, includes the brewery name, beer name, the username and the beer ID. This is all the requisite information for querying recommendations by username."
   ]
  },
  {
   "cell_type": "code",
   "execution_count": 0,
   "metadata": {
    "application/vnd.databricks.v1+cell": {
     "cellMetadata": {
      "byteLimit": 2048000,
      "rowLimit": 10000
     },
     "inputWidgets": {},
     "nuid": "008047e0-9fb0-4a65-ad78-f22605831f9c",
     "showTitle": false,
     "title": ""
    }
   },
   "outputs": [
    {
     "output_type": "display_data",
     "data": {
      "text/html": [
       "<style scoped>\n",
       "  .table-result-container {\n",
       "    max-height: 300px;\n",
       "    overflow: auto;\n",
       "  }\n",
       "  table, th, td {\n",
       "    border: 1px solid black;\n",
       "    border-collapse: collapse;\n",
       "  }\n",
       "  th, td {\n",
       "    padding: 5px;\n",
       "  }\n",
       "  th {\n",
       "    text-align: left;\n",
       "  }\n",
       "</style><div class='table-result-container'><table class='table-result'><thead style='background-color: white'><tr><th>beer_beerid</th><th>username</th><th>predRating</th><th>brewery_name</th><th>beer_name</th></tr></thead><tbody><tr><td>1545</td><td>ginemesis</td><td>4.719561</td><td>Brouwerij Westvleteren (Sint-Sixtusabdij van Westvleteren)</td><td>Trappist Westvleteren 12</td></tr><tr><td>42349</td><td>broombrew</td><td>4.7721443</td><td>Three Floyds Brewing Co. & Brewpub</td><td>Vanilla Bean Aged Dark Lord</td></tr><tr><td>45957</td><td>pemulis</td><td>4.786065</td><td>The Lost Abbey</td><td>Veritas 004</td></tr><tr><td>41928</td><td>darthweef</td><td>5.0226583</td><td>Russian River Brewing Company</td><td>Deviation - Bottleworks 9th Anniversary</td></tr><tr><td>23413</td><td>takahiro</td><td>4.268749</td><td>Brouwerij Drie Fonteinen</td><td>Geuze Cuvée J&J (Joost En Jessie) Blauw (Blue)</td></tr><tr><td>42349</td><td>aahynick</td><td>4.6827416</td><td>Three Floyds Brewing Co. & Brewpub</td><td>Vanilla Bean Aged Dark Lord</td></tr><tr><td>62397</td><td>ronniebruner</td><td>4.8615594</td><td>Goose Island Beer Co.</td><td>Rare Bourbon County Stout</td></tr><tr><td>23413</td><td>nerfherderhan</td><td>5.3480253</td><td>Brouwerij Drie Fonteinen</td><td>Geuze Cuvée J&J (Joost En Jessie) Blauw (Blue)</td></tr><tr><td>42349</td><td>whiskeyfist666</td><td>4.6771107</td><td>Three Floyds Brewing Co. & Brewpub</td><td>Vanilla Bean Aged Dark Lord</td></tr><tr><td>47658</td><td>metallistout</td><td>5.151672</td><td>Founders Brewing Company</td><td>Founders CBS Imperial Stout</td></tr><tr><td>42349</td><td>lancer211</td><td>5.0768957</td><td>Three Floyds Brewing Co. & Brewpub</td><td>Vanilla Bean Aged Dark Lord</td></tr><tr><td>1545</td><td>trickfinlay2</td><td>4.7684565</td><td>Brouwerij Westvleteren (Sint-Sixtusabdij van Westvleteren)</td><td>Trappist Westvleteren 12</td></tr><tr><td>42664</td><td>mophie</td><td>5.0300055</td><td>Närke Kulturbryggeri AB</td><td>Kaggen! Stormaktsporter</td></tr><tr><td>45957</td><td>denflyr</td><td>4.7608566</td><td>The Lost Abbey</td><td>Veritas 004</td></tr><tr><td>41928</td><td>ndillon45</td><td>4.707053</td><td>Russian River Brewing Company</td><td>Deviation - Bottleworks 9th Anniversary</td></tr><tr><td>42349</td><td>nbrown</td><td>4.885257</td><td>Three Floyds Brewing Co. & Brewpub</td><td>Vanilla Bean Aged Dark Lord</td></tr><tr><td>23413</td><td>joefuzz</td><td>4.633077</td><td>Brouwerij Drie Fonteinen</td><td>Geuze Cuvée J&J (Joost En Jessie) Blauw (Blue)</td></tr><tr><td>45957</td><td>cdmastro</td><td>4.8634496</td><td>The Lost Abbey</td><td>Veritas 004</td></tr><tr><td>37114</td><td>assmasterson</td><td>4.678836</td><td>North Coast Brewing Co.</td><td>Old Stock Cellar Reserve (Aged In Brandy Barrels)</td></tr><tr><td>62397</td><td>sofingraw</td><td>4.5925813</td><td>Goose Island Beer Co.</td><td>Rare Bourbon County Stout</td></tr></tbody></table></div>"
      ]
     },
     "metadata": {
      "application/vnd.databricks.v1+output": {
       "addedWidgets": {},
       "aggData": [],
       "aggError": "",
       "aggOverflow": false,
       "aggSchema": [],
       "aggSeriesLimitReached": false,
       "aggType": "",
       "arguments": {},
       "columnCustomDisplayInfos": {},
       "data": [
        [
         "1545",
         "ginemesis",
         "4.719561",
         "Brouwerij Westvleteren (Sint-Sixtusabdij van Westvleteren)",
         "Trappist Westvleteren 12"
        ],
        [
         "42349",
         "broombrew",
         "4.7721443",
         "Three Floyds Brewing Co. & Brewpub",
         "Vanilla Bean Aged Dark Lord"
        ],
        [
         "45957",
         "pemulis",
         "4.786065",
         "The Lost Abbey",
         "Veritas 004"
        ],
        [
         "41928",
         "darthweef",
         "5.0226583",
         "Russian River Brewing Company",
         "Deviation - Bottleworks 9th Anniversary"
        ],
        [
         "23413",
         "takahiro",
         "4.268749",
         "Brouwerij Drie Fonteinen",
         "Geuze Cuvée J&J (Joost En Jessie) Blauw (Blue)"
        ],
        [
         "42349",
         "aahynick",
         "4.6827416",
         "Three Floyds Brewing Co. & Brewpub",
         "Vanilla Bean Aged Dark Lord"
        ],
        [
         "62397",
         "ronniebruner",
         "4.8615594",
         "Goose Island Beer Co.",
         "Rare Bourbon County Stout"
        ],
        [
         "23413",
         "nerfherderhan",
         "5.3480253",
         "Brouwerij Drie Fonteinen",
         "Geuze Cuvée J&J (Joost En Jessie) Blauw (Blue)"
        ],
        [
         "42349",
         "whiskeyfist666",
         "4.6771107",
         "Three Floyds Brewing Co. & Brewpub",
         "Vanilla Bean Aged Dark Lord"
        ],
        [
         "47658",
         "metallistout",
         "5.151672",
         "Founders Brewing Company",
         "Founders CBS Imperial Stout"
        ],
        [
         "42349",
         "lancer211",
         "5.0768957",
         "Three Floyds Brewing Co. & Brewpub",
         "Vanilla Bean Aged Dark Lord"
        ],
        [
         "1545",
         "trickfinlay2",
         "4.7684565",
         "Brouwerij Westvleteren (Sint-Sixtusabdij van Westvleteren)",
         "Trappist Westvleteren 12"
        ],
        [
         "42664",
         "mophie",
         "5.0300055",
         "Närke Kulturbryggeri AB",
         "Kaggen! Stormaktsporter"
        ],
        [
         "45957",
         "denflyr",
         "4.7608566",
         "The Lost Abbey",
         "Veritas 004"
        ],
        [
         "41928",
         "ndillon45",
         "4.707053",
         "Russian River Brewing Company",
         "Deviation - Bottleworks 9th Anniversary"
        ],
        [
         "42349",
         "nbrown",
         "4.885257",
         "Three Floyds Brewing Co. & Brewpub",
         "Vanilla Bean Aged Dark Lord"
        ],
        [
         "23413",
         "joefuzz",
         "4.633077",
         "Brouwerij Drie Fonteinen",
         "Geuze Cuvée J&J (Joost En Jessie) Blauw (Blue)"
        ],
        [
         "45957",
         "cdmastro",
         "4.8634496",
         "The Lost Abbey",
         "Veritas 004"
        ],
        [
         "37114",
         "assmasterson",
         "4.678836",
         "North Coast Brewing Co.",
         "Old Stock Cellar Reserve (Aged In Brandy Barrels)"
        ],
        [
         "62397",
         "sofingraw",
         "4.5925813",
         "Goose Island Beer Co.",
         "Rare Bourbon County Stout"
        ]
       ],
       "datasetInfos": [],
       "dbfsResultPath": null,
       "isJsonSchema": true,
       "metadata": {},
       "overflow": false,
       "plotOptions": {
        "customPlotOptions": {},
        "displayType": "table",
        "pivotAggregation": null,
        "pivotColumns": null,
        "xColumns": null,
        "yColumns": null
       },
       "removedWidgets": [],
       "schema": [
        {
         "metadata": "{}",
         "name": "beer_beerid",
         "type": "\"string\""
        },
        {
         "metadata": "{}",
         "name": "username",
         "type": "\"string\""
        },
        {
         "metadata": "{}",
         "name": "predRating",
         "type": "\"string\""
        },
        {
         "metadata": "{}",
         "name": "brewery_name",
         "type": "\"string\""
        },
        {
         "metadata": "{}",
         "name": "beer_name",
         "type": "\"string\""
        }
       ],
       "type": "table"
      }
     },
     "output_type": "display_data"
    }
   ],
   "source": [
    "# Load ratings (faster than displaying from memory because of pyspark lazy evaluation)\n",
    "saved_recs = spark.read.load(path = exp_rec_dir + '/exp_user_recommendations.csv', \n",
    "                      format='csv', header=True)\n",
    "# Shuffle and display 20 examples \n",
    "saved_recs.orderBy(f.rand()).limit(20).display()"
   ]
  }
 ],
 "metadata": {
  "application/vnd.databricks.v1+notebook": {
   "dashboards": [],
   "environmentMetadata": null,
   "language": "python",
   "notebookMetadata": {
    "pythonIndentUnit": 4
   },
   "notebookName": "john_romero_beer_mf_training",
   "widgets": {}
  }
 },
 "nbformat": 4,
 "nbformat_minor": 0
}
