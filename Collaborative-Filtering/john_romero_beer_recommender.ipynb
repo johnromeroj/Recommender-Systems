{
 "cells": [
  {
   "cell_type": "markdown",
   "metadata": {
    "application/vnd.databricks.v1+cell": {
     "cellMetadata": {
      "byteLimit": 2048000,
      "rowLimit": 10000
     },
     "inputWidgets": {},
     "nuid": "5d595068-0a84-459a-ad15-18d912f72a52",
     "showTitle": false,
     "title": ""
    }
   },
   "source": [
    "# Beer Recommendation System \n",
    "\n",
    "This notebook displays examples of making recommendations for: \n",
    "1. Experienced Users based on all previous ratings by that user.\n",
    "2. New Users based on the less than 3 beers they have rated positively. \n",
    "3. Similar beers to a given beer.\n",
    "4. Similar beers to a all beers to all beers from a given brewery. \n",
    "\n",
    "## Import Recommendation Function\n",
    "\n",
    "All functions needed for recommendations are wrapped within the `make_recommendations` function, which guides recommendations using simple questions. "
   ]
  },
  {
   "cell_type": "code",
   "execution_count": 0,
   "metadata": {
    "application/vnd.databricks.v1+cell": {
     "cellMetadata": {
      "byteLimit": 2048000,
      "rowLimit": 10000
     },
     "inputWidgets": {},
     "nuid": "31244b69-fe75-4274-a4e8-5932b38358e9",
     "showTitle": false,
     "title": ""
    },
    "jupyter": {
     "outputs_hidden": true
    }
   },
   "outputs": [],
   "source": [
    "%run /Capstone/john_romero_beer_rec_functions"
   ]
  },
  {
   "cell_type": "markdown",
   "metadata": {
    "application/vnd.databricks.v1+cell": {
     "cellMetadata": {
      "byteLimit": 2048000,
      "rowLimit": 10000
     },
     "inputWidgets": {},
     "nuid": "098da973-6e45-4190-95c1-ea6a5ce6d6dc",
     "showTitle": false,
     "title": ""
    }
   },
   "source": [
    "Note: The notebook also has the following functions that can be used directly: \n",
    "1. `make_recommendations` that asks the user for a recomendation type then wraps the two other functions.\n",
    "2. `rec_from_name` to get a recommendation from the beer/brewery name directly.\n",
    "3. `get_exp_rec` to prompt for a username to get recommendataions for. "
   ]
  },
  {
   "cell_type": "markdown",
   "metadata": {
    "application/vnd.databricks.v1+cell": {
     "cellMetadata": {
      "byteLimit": 2048000,
      "rowLimit": 10000
     },
     "inputWidgets": {},
     "nuid": "9691b698-bc1a-422d-bbac-b5beb5ec5c94",
     "showTitle": false,
     "title": ""
    }
   },
   "source": [
    "## 1. Experienced Users\n",
    "For an example of an experienced user:\n",
    "  \n",
    "  Username: zorro"
   ]
  },
  {
   "cell_type": "code",
   "execution_count": 0,
   "metadata": {
    "application/vnd.databricks.v1+cell": {
     "cellMetadata": {
      "byteLimit": 2048000,
      "rowLimit": 10000
     },
     "inputWidgets": {},
     "nuid": "43cd8abc-8375-467f-b699-2f8013042c74",
     "showTitle": false,
     "title": ""
    }
   },
   "outputs": [
    {
     "output_type": "stream",
     "name": "stdout",
     "output_type": "stream",
     "text": [
      "\nSelect on option (1/2):\n   1. Recommendations by username.\n   2. Beer/Brewery specific recommendations.\n            \n"
     ]
    },
    {
     "output_type": "display_data",
     "data": {
      "text/plain": [
       " 1"
      ]
     },
     "metadata": {},
     "output_type": "display_data"
    },
    {
     "output_type": "stream",
     "name": "stdout",
     "output_type": "stream",
     "text": [
      "Making recommendations by username.\nPlease Type Username (not case sensitive):\n"
     ]
    },
    {
     "output_type": "display_data",
     "data": {
      "text/plain": [
       " zorro"
      ]
     },
     "metadata": {},
     "output_type": "display_data"
    },
    {
     "output_type": "stream",
     "name": "stdout",
     "output_type": "stream",
     "text": [
      "Making Recommendations for: zorro\n"
     ]
    },
    {
     "output_type": "display_data",
     "data": {
      "text/html": [
       "<style scoped>\n",
       "  .table-result-container {\n",
       "    max-height: 300px;\n",
       "    overflow: auto;\n",
       "  }\n",
       "  table, th, td {\n",
       "    border: 1px solid black;\n",
       "    border-collapse: collapse;\n",
       "  }\n",
       "  th, td {\n",
       "    padding: 5px;\n",
       "  }\n",
       "  th {\n",
       "    text-align: left;\n",
       "  }\n",
       "</style><div class='table-result-container'><table class='table-result'><thead style='background-color: white'><tr><th>Brewery</th><th>Beer</th></tr></thead><tbody><tr><td>Brasserie Cantillon</td><td>Cantillon Blåbær Lambik</td></tr><tr><td>Russian River Brewing Company</td><td>Pliny The Younger</td></tr><tr><td>North Coast Brewing Co.</td><td>Old Stock Cellar Reserve (Aged In Brandy Barrels)</td></tr><tr><td>Brouwerij Westvleteren (Sint-Sixtusabdij van Westvleteren)</td><td>Trappist Westvleteren 12</td></tr><tr><td>Founders Brewing Company</td><td>Founders CBS Imperial Stout</td></tr></tbody></table></div>"
      ]
     },
     "metadata": {
      "application/vnd.databricks.v1+output": {
       "addedWidgets": {},
       "aggData": [],
       "aggError": "",
       "aggOverflow": false,
       "aggSchema": [],
       "aggSeriesLimitReached": false,
       "aggType": "",
       "arguments": {},
       "columnCustomDisplayInfos": {},
       "data": [
        [
         "Brasserie Cantillon",
         "Cantillon Blåbær Lambik"
        ],
        [
         "Russian River Brewing Company",
         "Pliny The Younger"
        ],
        [
         "North Coast Brewing Co.",
         "Old Stock Cellar Reserve (Aged In Brandy Barrels)"
        ],
        [
         "Brouwerij Westvleteren (Sint-Sixtusabdij van Westvleteren)",
         "Trappist Westvleteren 12"
        ],
        [
         "Founders Brewing Company",
         "Founders CBS Imperial Stout"
        ]
       ],
       "datasetInfos": [],
       "dbfsResultPath": null,
       "isJsonSchema": true,
       "metadata": {},
       "overflow": false,
       "plotOptions": {
        "customPlotOptions": {},
        "displayType": "table",
        "pivotAggregation": null,
        "pivotColumns": null,
        "xColumns": null,
        "yColumns": null
       },
       "removedWidgets": [],
       "schema": [
        {
         "metadata": "{}",
         "name": "Brewery",
         "type": "\"string\""
        },
        {
         "metadata": "{}",
         "name": "Beer",
         "type": "\"string\""
        }
       ],
       "type": "table"
      }
     },
     "output_type": "display_data"
    }
   ],
   "source": [
    "make_recommendations()"
   ]
  },
  {
   "cell_type": "markdown",
   "metadata": {
    "application/vnd.databricks.v1+cell": {
     "cellMetadata": {
      "byteLimit": 2048000,
      "rowLimit": 10000
     },
     "inputWidgets": {},
     "nuid": "4d5c0e81-d86f-41dc-8507-ca764a239114",
     "showTitle": false,
     "title": ""
    }
   },
   "source": [
    "## 2. Inexperienced Users \n",
    "\n",
    "For an example of a user with one beer positively rated: \n",
    "    \n",
    "Username: darthbeer\n"
   ]
  },
  {
   "cell_type": "code",
   "execution_count": 0,
   "metadata": {
    "application/vnd.databricks.v1+cell": {
     "cellMetadata": {
      "byteLimit": 2048000,
      "rowLimit": 10000
     },
     "inputWidgets": {},
     "nuid": "ee85ac64-1dad-483b-8e20-bebea1460b8a",
     "showTitle": false,
     "title": ""
    }
   },
   "outputs": [
    {
     "output_type": "stream",
     "name": "stdout",
     "output_type": "stream",
     "text": [
      "\nSelect on option (1/2):\n   1. Recommendations by username.\n   2. Beer/Brewery specific recommendations.\n            \n"
     ]
    },
    {
     "output_type": "display_data",
     "data": {
      "text/plain": [
       " 1"
      ]
     },
     "metadata": {},
     "output_type": "display_data"
    },
    {
     "output_type": "stream",
     "name": "stdout",
     "output_type": "stream",
     "text": [
      "Making recommendations by username.\nPlease Type Username (not case sensitive):\n"
     ]
    },
    {
     "output_type": "display_data",
     "data": {
      "text/plain": [
       " darthbeer"
      ]
     },
     "metadata": {},
     "output_type": "display_data"
    },
    {
     "output_type": "stream",
     "name": "stdout",
     "output_type": "stream",
     "text": [
      "Making Recommendations for: darthbeer\nCannot make personalized recommendations (too few positively rated beers).\nRecommending based on all positively rated beers by user:\n\nMaking Recommendations for:\n\tGenesee Cream Ale from Genesee Brewing Co. / Dundee Brewing Co.\n"
     ]
    },
    {
     "output_type": "display_data",
     "data": {
      "text/html": [
       "<style scoped>\n",
       "  .table-result-container {\n",
       "    max-height: 300px;\n",
       "    overflow: auto;\n",
       "  }\n",
       "  table, th, td {\n",
       "    border: 1px solid black;\n",
       "    border-collapse: collapse;\n",
       "  }\n",
       "  th, td {\n",
       "    padding: 5px;\n",
       "  }\n",
       "  th {\n",
       "    text-align: left;\n",
       "  }\n",
       "</style><div class='table-result-container'><table class='table-result'><thead style='background-color: white'><tr><th>Brewery Name</th><th>Beer Name</th></tr></thead><tbody><tr><td>Anheuser-Busch</td><td>Busch Beer</td></tr><tr><td>Genesee Brewing Co. / Dundee Brewing Co.</td><td>Genesee Beer</td></tr><tr><td>Cervecería Cuauhtémoc Moctezuma, S.A. de C.V.</td><td>Tecate</td></tr><tr><td>Heineken Nederland B.V.</td><td>Heineken Lager Beer</td></tr><tr><td>Anheuser-Busch</td><td>Bud Ice</td></tr><tr><td>Labatt Brewing Company Ltd.</td><td>Labatt Blue</td></tr><tr><td>Miller Brewing Co.</td><td>Miller Lite</td></tr><tr><td>Genesee Brewing Co. / Dundee Brewing Co.</td><td>Genny Light</td></tr><tr><td>Anheuser-Busch</td><td>Michelob Ultra</td></tr><tr><td>Miller Brewing Co.</td><td>Miller High Life</td></tr></tbody></table></div>"
      ]
     },
     "metadata": {
      "application/vnd.databricks.v1+output": {
       "addedWidgets": {},
       "aggData": [],
       "aggError": "",
       "aggOverflow": false,
       "aggSchema": [],
       "aggSeriesLimitReached": false,
       "aggType": "",
       "arguments": {},
       "columnCustomDisplayInfos": {},
       "data": [
        [
         "Anheuser-Busch",
         "Busch Beer"
        ],
        [
         "Genesee Brewing Co. / Dundee Brewing Co.",
         "Genesee Beer"
        ],
        [
         "Cervecería Cuauhtémoc Moctezuma, S.A. de C.V.",
         "Tecate"
        ],
        [
         "Heineken Nederland B.V.",
         "Heineken Lager Beer"
        ],
        [
         "Anheuser-Busch",
         "Bud Ice"
        ],
        [
         "Labatt Brewing Company Ltd.",
         "Labatt Blue"
        ],
        [
         "Miller Brewing Co.",
         "Miller Lite"
        ],
        [
         "Genesee Brewing Co. / Dundee Brewing Co.",
         "Genny Light"
        ],
        [
         "Anheuser-Busch",
         "Michelob Ultra"
        ],
        [
         "Miller Brewing Co.",
         "Miller High Life"
        ]
       ],
       "datasetInfos": [],
       "dbfsResultPath": null,
       "isJsonSchema": true,
       "metadata": {},
       "overflow": false,
       "plotOptions": {
        "customPlotOptions": {},
        "displayType": "table",
        "pivotAggregation": null,
        "pivotColumns": null,
        "xColumns": null,
        "yColumns": null
       },
       "removedWidgets": [],
       "schema": [
        {
         "metadata": "{}",
         "name": "Brewery Name",
         "type": "\"string\""
        },
        {
         "metadata": "{}",
         "name": "Beer Name",
         "type": "\"string\""
        }
       ],
       "type": "table"
      }
     },
     "output_type": "display_data"
    }
   ],
   "source": [
    "make_recommendations()"
   ]
  },
  {
   "cell_type": "markdown",
   "metadata": {
    "application/vnd.databricks.v1+cell": {
     "cellMetadata": {
      "byteLimit": 2048000,
      "rowLimit": 10000
     },
     "inputWidgets": {},
     "nuid": "d19af6f4-7d92-479f-bbf9-5ab00dc17e7f",
     "showTitle": false,
     "title": ""
    }
   },
   "source": [
    "## 3. Recommendations from Beer Name\n",
    "\n",
    "For example of getting recommendations using only the name of the beer: \n",
    "\n",
    "Beer Name: Dogtoberfest"
   ]
  },
  {
   "cell_type": "code",
   "execution_count": 0,
   "metadata": {
    "application/vnd.databricks.v1+cell": {
     "cellMetadata": {
      "byteLimit": 2048000,
      "rowLimit": 10000
     },
     "inputWidgets": {},
     "nuid": "d410171c-b849-468d-85d4-a9c46953fb86",
     "showTitle": false,
     "title": ""
    }
   },
   "outputs": [
    {
     "output_type": "stream",
     "name": "stdout",
     "output_type": "stream",
     "text": [
      "\nSelect on option (1/2):\n   1. Recommendations by username.\n   2. Beer/Brewery specific recommendations.\n            \n"
     ]
    },
    {
     "output_type": "display_data",
     "data": {
      "text/plain": [
       " 2"
      ]
     },
     "metadata": {},
     "output_type": "display_data"
    },
    {
     "output_type": "stream",
     "name": "stdout",
     "output_type": "stream",
     "text": [
      "Making item-specific recommendations.\nPlease enter the name of the beer you'd like similar recommendations for. (Case Sensitive)\nOr press enter to lookup by brewery.\n"
     ]
    },
    {
     "output_type": "display_data",
     "data": {
      "text/plain": [
       " Dogtoberfest"
      ]
     },
     "metadata": {},
     "output_type": "display_data"
    },
    {
     "output_type": "stream",
     "name": "stdout",
     "output_type": "stream",
     "text": [
      "If you'd like, input the name of the brewery, or press enter to skip.\n"
     ]
    },
    {
     "output_type": "display_data",
     "data": {
      "text/plain": [
       " "
      ]
     },
     "metadata": {},
     "output_type": "display_data"
    },
    {
     "output_type": "stream",
     "name": "stdout",
     "output_type": "stream",
     "text": [
      "\nMaking Recommendations for:\n\tDogtoberfest from Flying Dog Brewery\n"
     ]
    },
    {
     "output_type": "display_data",
     "data": {
      "text/html": [
       "<style scoped>\n",
       "  .table-result-container {\n",
       "    max-height: 300px;\n",
       "    overflow: auto;\n",
       "  }\n",
       "  table, th, td {\n",
       "    border: 1px solid black;\n",
       "    border-collapse: collapse;\n",
       "  }\n",
       "  th, td {\n",
       "    padding: 5px;\n",
       "  }\n",
       "  th {\n",
       "    text-align: left;\n",
       "  }\n",
       "</style><div class='table-result-container'><table class='table-result'><thead style='background-color: white'><tr><th>Brewery Name</th><th>Beer Name</th></tr></thead><tbody><tr><td>Boston Beer Company (Samuel Adams)</td><td>Samuel Adams Hefeweizen</td></tr><tr><td>Flying Dog Brewery</td><td>Garde Dog</td></tr><tr><td>Flensburger Brauerei GmbH Und Co. KG</td><td>Flensburger Weizen</td></tr><tr><td>Smithwick's Brewery / Irish Ale Breweries Ltd</td><td>Smithwick's Ale</td></tr><tr><td>Spoetzl Brewery</td><td>Shiner Kölsch</td></tr><tr><td>Abita Brewing Co.</td><td>Turbodog</td></tr><tr><td>Dixie Brewing Co.</td><td>Dixie Crimson Voodoo Ale</td></tr><tr><td>Grupo Modelo S.A. de C.V.</td><td>Modelo Especial</td></tr><tr><td>Bavaria Brouwerij N.V.</td><td>Bavaria Beer / Pilsener</td></tr><tr><td>Shipyard Brewing Co.</td><td>Pumpkinhead Ale</td></tr></tbody></table></div>"
      ]
     },
     "metadata": {
      "application/vnd.databricks.v1+output": {
       "addedWidgets": {},
       "aggData": [],
       "aggError": "",
       "aggOverflow": false,
       "aggSchema": [],
       "aggSeriesLimitReached": false,
       "aggType": "",
       "arguments": {},
       "columnCustomDisplayInfos": {},
       "data": [
        [
         "Boston Beer Company (Samuel Adams)",
         "Samuel Adams Hefeweizen"
        ],
        [
         "Flying Dog Brewery",
         "Garde Dog"
        ],
        [
         "Flensburger Brauerei GmbH Und Co. KG",
         "Flensburger Weizen"
        ],
        [
         "Smithwick's Brewery / Irish Ale Breweries Ltd",
         "Smithwick's Ale"
        ],
        [
         "Spoetzl Brewery",
         "Shiner Kölsch"
        ],
        [
         "Abita Brewing Co.",
         "Turbodog"
        ],
        [
         "Dixie Brewing Co.",
         "Dixie Crimson Voodoo Ale"
        ],
        [
         "Grupo Modelo S.A. de C.V.",
         "Modelo Especial"
        ],
        [
         "Bavaria Brouwerij N.V.",
         "Bavaria Beer / Pilsener"
        ],
        [
         "Shipyard Brewing Co.",
         "Pumpkinhead Ale"
        ]
       ],
       "datasetInfos": [],
       "dbfsResultPath": null,
       "isJsonSchema": true,
       "metadata": {},
       "overflow": false,
       "plotOptions": {
        "customPlotOptions": {},
        "displayType": "table",
        "pivotAggregation": null,
        "pivotColumns": null,
        "xColumns": null,
        "yColumns": null
       },
       "removedWidgets": [],
       "schema": [
        {
         "metadata": "{}",
         "name": "Brewery Name",
         "type": "\"string\""
        },
        {
         "metadata": "{}",
         "name": "Beer Name",
         "type": "\"string\""
        }
       ],
       "type": "table"
      }
     },
     "output_type": "display_data"
    }
   ],
   "source": [
    "make_recommendations()"
   ]
  },
  {
   "cell_type": "markdown",
   "metadata": {
    "application/vnd.databricks.v1+cell": {
     "cellMetadata": {
      "byteLimit": 2048000,
      "rowLimit": 10000
     },
     "inputWidgets": {},
     "nuid": "b35c60b9-3840-4667-a731-943315a1a23a",
     "showTitle": false,
     "title": ""
    }
   },
   "source": [
    "## 4. Recommendations by Brewery\n",
    "\n",
    "For an example of recommendations using the brewery: \n",
    "  Brewery: Santa Fe Brewing Company"
   ]
  },
  {
   "cell_type": "code",
   "execution_count": 0,
   "metadata": {
    "application/vnd.databricks.v1+cell": {
     "cellMetadata": {
      "byteLimit": 2048000,
      "rowLimit": 10000
     },
     "inputWidgets": {},
     "nuid": "445bfd1f-eb27-4910-83bb-fa01468fc95c",
     "showTitle": false,
     "title": ""
    }
   },
   "outputs": [
    {
     "output_type": "stream",
     "name": "stdout",
     "output_type": "stream",
     "text": [
      "\nSelect on option (1/2):\n   1. Recommendations by username.\n   2. Beer/Brewery specific recommendations.\n            \n"
     ]
    },
    {
     "output_type": "display_data",
     "data": {
      "text/plain": [
       " 2"
      ]
     },
     "metadata": {},
     "output_type": "display_data"
    },
    {
     "output_type": "stream",
     "name": "stdout",
     "output_type": "stream",
     "text": [
      "Making item-specific recommendations.\nPlease enter the name of the beer you'd like similar recommendations for. (Case Sensitive)\nOr press enter to lookup by brewery.\n"
     ]
    },
    {
     "output_type": "display_data",
     "data": {
      "text/plain": [
       " "
      ]
     },
     "metadata": {},
     "output_type": "display_data"
    },
    {
     "output_type": "stream",
     "name": "stdout",
     "output_type": "stream",
     "text": [
      "If you'd like, input the name of the brewery, or press enter to skip.\n"
     ]
    },
    {
     "output_type": "display_data",
     "data": {
      "text/plain": [
       " Santa Fe Brewing Company"
      ]
     },
     "metadata": {},
     "output_type": "display_data"
    },
    {
     "output_type": "stream",
     "name": "stdout",
     "output_type": "stream",
     "text": [
      "\nMaking recommendations based on beers from:\n\tSanta Fe Brewing Company\n"
     ]
    },
    {
     "output_type": "display_data",
     "data": {
      "text/html": [
       "<style scoped>\n",
       "  .table-result-container {\n",
       "    max-height: 300px;\n",
       "    overflow: auto;\n",
       "  }\n",
       "  table, th, td {\n",
       "    border: 1px solid black;\n",
       "    border-collapse: collapse;\n",
       "  }\n",
       "  th, td {\n",
       "    padding: 5px;\n",
       "  }\n",
       "  th {\n",
       "    text-align: left;\n",
       "  }\n",
       "</style><div class='table-result-container'><table class='table-result'><thead style='background-color: white'><tr><th>Beer Name</th><th>Brewery Name</th></tr></thead><tbody><tr><td>Schlafly Oktoberfest</td><td>Saint Louis Brewery / Schlafly Tap Room</td></tr><tr><td>Big Shot</td><td>Fort Collins Brewing</td></tr><tr><td>Saint Arnold Summer Pils</td><td>Saint Arnold Brewing Company</td></tr><tr><td>Saint Arnold Fancy Lawnmower</td><td>Saint Arnold Brewing Company</td></tr><tr><td>He'Brew Rejewvenator (Year Of The Grape) 2010</td><td>Shmaltz Brewing Company</td></tr><tr><td>Summit ESB</td><td>Summit Brewing Company</td></tr><tr><td>Winter Warmer</td><td>Rahr & Sons Brewing Company</td></tr><tr><td>Odd Notion (Winter 07)</td><td>Magic Hat Brewing Company</td></tr><tr><td>Blonde Lager</td><td>Rahr & Sons Brewing Company</td></tr><tr><td>Shiner Light</td><td>Spoetzl Brewery</td></tr></tbody></table></div>"
      ]
     },
     "metadata": {
      "application/vnd.databricks.v1+output": {
       "addedWidgets": {},
       "aggData": [],
       "aggError": "",
       "aggOverflow": false,
       "aggSchema": [],
       "aggSeriesLimitReached": false,
       "aggType": "",
       "arguments": {},
       "columnCustomDisplayInfos": {},
       "data": [
        [
         "Schlafly Oktoberfest",
         "Saint Louis Brewery / Schlafly Tap Room"
        ],
        [
         "Big Shot",
         "Fort Collins Brewing"
        ],
        [
         "Saint Arnold Summer Pils",
         "Saint Arnold Brewing Company"
        ],
        [
         "Saint Arnold Fancy Lawnmower",
         "Saint Arnold Brewing Company"
        ],
        [
         "He'Brew Rejewvenator (Year Of The Grape) 2010",
         "Shmaltz Brewing Company"
        ],
        [
         "Summit ESB",
         "Summit Brewing Company"
        ],
        [
         "Winter Warmer",
         "Rahr & Sons Brewing Company"
        ],
        [
         "Odd Notion (Winter 07)",
         "Magic Hat Brewing Company"
        ],
        [
         "Blonde Lager",
         "Rahr & Sons Brewing Company"
        ],
        [
         "Shiner Light",
         "Spoetzl Brewery"
        ]
       ],
       "datasetInfos": [],
       "dbfsResultPath": null,
       "isJsonSchema": true,
       "metadata": {},
       "overflow": false,
       "plotOptions": {
        "customPlotOptions": {},
        "displayType": "table",
        "pivotAggregation": null,
        "pivotColumns": null,
        "xColumns": null,
        "yColumns": null
       },
       "removedWidgets": [],
       "schema": [
        {
         "metadata": "{}",
         "name": "Beer Name",
         "type": "\"string\""
        },
        {
         "metadata": "{}",
         "name": "Brewery Name",
         "type": "\"string\""
        }
       ],
       "type": "table"
      }
     },
     "output_type": "display_data"
    }
   ],
   "source": [
    "make_recommendations()"
   ]
  },
  {
   "cell_type": "markdown",
   "metadata": {
    "application/vnd.databricks.v1+cell": {
     "cellMetadata": {
      "byteLimit": 2048000,
      "rowLimit": 10000
     },
     "inputWidgets": {},
     "nuid": "15036ea0-7ccd-49d9-984d-d44ac7be9a0f",
     "showTitle": false,
     "title": ""
    }
   },
   "source": [
    "## 5. Recommendations using both Beer and Brewery\n",
    "\n",
    "For an example of looking beer up by name and brewery: \n",
    "\n",
    "Beer: Purple Haze\n",
    "\n",
    "Brewery: Abita Brewing Co."
   ]
  },
  {
   "cell_type": "code",
   "execution_count": 0,
   "metadata": {
    "application/vnd.databricks.v1+cell": {
     "cellMetadata": {
      "byteLimit": 2048000,
      "rowLimit": 10000
     },
     "inputWidgets": {},
     "nuid": "796165a9-b8bf-44e8-b6fc-1dd00c6cd0df",
     "showTitle": false,
     "title": ""
    }
   },
   "outputs": [
    {
     "output_type": "stream",
     "name": "stdout",
     "output_type": "stream",
     "text": [
      "\nSelect on option (1/2):\n   1. Recommendations by username.\n   2. Beer/Brewery specific recommendations.\n            \n"
     ]
    },
    {
     "output_type": "display_data",
     "data": {
      "text/plain": [
       " 2"
      ]
     },
     "metadata": {},
     "output_type": "display_data"
    },
    {
     "output_type": "stream",
     "name": "stdout",
     "output_type": "stream",
     "text": [
      "Making item-specific recommendations.\nPlease enter the name of the beer you'd like similar recommendations for. (Case Sensitive)\nOr press enter to lookup by brewery.\n"
     ]
    },
    {
     "output_type": "display_data",
     "data": {
      "text/plain": [
       " Purple Haze"
      ]
     },
     "metadata": {},
     "output_type": "display_data"
    },
    {
     "output_type": "stream",
     "name": "stdout",
     "output_type": "stream",
     "text": [
      "If you'd like, input the name of the brewery, or press enter to skip.\n"
     ]
    },
    {
     "output_type": "display_data",
     "data": {
      "text/plain": [
       " Abita Brewing Co."
      ]
     },
     "metadata": {},
     "output_type": "display_data"
    },
    {
     "output_type": "stream",
     "name": "stdout",
     "output_type": "stream",
     "text": [
      "\nMaking Recommendations for:\n\tPurple Haze from Abita Brewing Co.\n"
     ]
    },
    {
     "output_type": "display_data",
     "data": {
      "text/html": [
       "<style scoped>\n",
       "  .table-result-container {\n",
       "    max-height: 300px;\n",
       "    overflow: auto;\n",
       "  }\n",
       "  table, th, td {\n",
       "    border: 1px solid black;\n",
       "    border-collapse: collapse;\n",
       "  }\n",
       "  th, td {\n",
       "    padding: 5px;\n",
       "  }\n",
       "  th {\n",
       "    text-align: left;\n",
       "  }\n",
       "</style><div class='table-result-container'><table class='table-result'><thead style='background-color: white'><tr><th>Brewery Name</th><th>Beer Name</th></tr></thead><tbody><tr><td>Abita Brewing Co.</td><td>Amber</td></tr><tr><td>Grupo Modelo S.A. de C.V.</td><td>Corona Extra</td></tr><tr><td>Amstel Brouwerij B. V.</td><td>Amstel Light</td></tr><tr><td>Miller Brewing Co.</td><td>Miller Lite</td></tr><tr><td>Birra Peroni Industriale S.p.A.</td><td>Peroni Nastro Azzurro</td></tr><tr><td>Jacob Leinenkugel Brewing Company</td><td>Leinenkugel's Berry Weiss</td></tr><tr><td>Grupo Modelo S.A. de C.V.</td><td>Pacífico</td></tr><tr><td>Abita Brewing Co.</td><td>Golden</td></tr><tr><td>Boston Beer Company (Samuel Adams)</td><td>Samuel Adams Cranberry Lambic</td></tr><tr><td>Anheuser-Busch</td><td>Budweiser</td></tr></tbody></table></div>"
      ]
     },
     "metadata": {
      "application/vnd.databricks.v1+output": {
       "addedWidgets": {},
       "aggData": [],
       "aggError": "",
       "aggOverflow": false,
       "aggSchema": [],
       "aggSeriesLimitReached": false,
       "aggType": "",
       "arguments": {},
       "columnCustomDisplayInfos": {},
       "data": [
        [
         "Abita Brewing Co.",
         "Amber"
        ],
        [
         "Grupo Modelo S.A. de C.V.",
         "Corona Extra"
        ],
        [
         "Amstel Brouwerij B. V.",
         "Amstel Light"
        ],
        [
         "Miller Brewing Co.",
         "Miller Lite"
        ],
        [
         "Birra Peroni Industriale S.p.A.",
         "Peroni Nastro Azzurro"
        ],
        [
         "Jacob Leinenkugel Brewing Company",
         "Leinenkugel's Berry Weiss"
        ],
        [
         "Grupo Modelo S.A. de C.V.",
         "Pacífico"
        ],
        [
         "Abita Brewing Co.",
         "Golden"
        ],
        [
         "Boston Beer Company (Samuel Adams)",
         "Samuel Adams Cranberry Lambic"
        ],
        [
         "Anheuser-Busch",
         "Budweiser"
        ]
       ],
       "datasetInfos": [],
       "dbfsResultPath": null,
       "isJsonSchema": true,
       "metadata": {},
       "overflow": false,
       "plotOptions": {
        "customPlotOptions": {},
        "displayType": "table",
        "pivotAggregation": null,
        "pivotColumns": null,
        "xColumns": null,
        "yColumns": null
       },
       "removedWidgets": [],
       "schema": [
        {
         "metadata": "{}",
         "name": "Brewery Name",
         "type": "\"string\""
        },
        {
         "metadata": "{}",
         "name": "Beer Name",
         "type": "\"string\""
        }
       ],
       "type": "table"
      }
     },
     "output_type": "display_data"
    }
   ],
   "source": [
    "make_recommendations()"
   ]
  }
 ],
 "metadata": {
  "application/vnd.databricks.v1+notebook": {
   "dashboards": [],
   "environmentMetadata": null,
   "language": "python",
   "notebookMetadata": {
    "pythonIndentUnit": 4
   },
   "notebookName": "john_romero_beer_recommender",
   "widgets": {}
  }
 },
 "nbformat": 4,
 "nbformat_minor": 0
}
