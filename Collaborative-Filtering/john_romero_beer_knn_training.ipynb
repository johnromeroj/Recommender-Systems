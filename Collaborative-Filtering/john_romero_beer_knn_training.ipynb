{
 "cells": [
  {
   "cell_type": "markdown",
   "metadata": {
    "application/vnd.databricks.v1+cell": {
     "cellMetadata": {
      "byteLimit": 2048000,
      "rowLimit": 10000
     },
     "inputWidgets": {},
     "nuid": "330b5c79-05f2-40a0-9177-0d579d4539db",
     "showTitle": false,
     "title": ""
    }
   },
   "source": [
    "# Beer Recommendation KNN Fitting \n",
    "\n",
    "This notebook contains the code to fit the KNN algorithm for the beer ratings and save the distances to each beer using centered cosine similarity. "
   ]
  },
  {
   "cell_type": "code",
   "execution_count": 0,
   "metadata": {
    "application/vnd.databricks.v1+cell": {
     "cellMetadata": {
      "byteLimit": 2048000,
      "rowLimit": 10000
     },
     "inputWidgets": {},
     "nuid": "a6d5a1a7-e0b3-4ac0-a193-da54e11e6b10",
     "showTitle": false,
     "title": ""
    }
   },
   "outputs": [],
   "source": [
    "# Import Dependencies \n",
    "from  pyspark.sql.types import StructField, StructType, StringType, LongType, FloatType\n",
    "import pyspark.sql.functions as f \n",
    "import pandas as pd\n",
    "from pyspark.ml.feature import StringIndexer\n",
    "\n",
    "# Define all dbfs filepaths \n",
    "base_dir = 'dbfs:/FileStore/tables'\n",
    "project_dir = base_dir + '/Capstone'\n",
    "beer_dir = project_dir + '/beer'\n",
    "\n",
    "data_dir = beer_dir + '/data'\n",
    "mf_model_dir = beer_dir + '/beer_mf_model'\n",
    "\n",
    "rec_dir = beer_dir + '/beer_recs'\n",
    "exp_rec_dir = rec_dir + '/experienced'\n",
    "new_rec_dir = rec_dir + '/new'\n",
    "\n",
    "for dirname in [project_dir, beer_dir, data_dir, mf_model_dir, rec_dir, exp_rec_dir, new_rec_dir]: \n",
    "    try: dbutils.fs.ls(dirname)\n",
    "    except: dbutils.fs.mkdirs(dirname) \n",
    "\n",
    "# Schema For raw beer dataframe \n",
    "# Specifies column name, type and whether values are nullable\n",
    "beerSchema = StructType([\n",
    "    StructField('brewery_id', LongType(), True), \n",
    "    StructField('brewery_name', StringType(), True), \n",
    "    StructField('review_time', LongType(), True), \n",
    "    StructField('review_overall', FloatType(), True), \n",
    "    StructField('review_aroma', FloatType(), True), \n",
    "    StructField('review_apperance', FloatType(), True), \n",
    "    StructField('review_profilename', StringType(), True), \n",
    "    StructField('beer_style', StringType(), True), \n",
    "    StructField('review_palate', FloatType(), True), \n",
    "    StructField('review_taste', FloatType(), True), \n",
    "    StructField('beer_name', StringType(), True), \n",
    "    StructField('beer_abv', FloatType(), True), \n",
    "    StructField('beer_beerid', LongType(), True)\n",
    "])\n",
    "\n",
    "# Checking if file is in correct directory, otherwise moving it \n",
    "try: dbutils.fs.ls(data_dir + '/beer_reviews.csv')\n",
    "except: dbutils.fs.cp(base_dir + '/beer_reviews.csv', data_dir)\n",
    "\n",
    "# Loading the raw data file \n",
    "raw = spark.read.load(path = data_dir + '/beer_reviews.csv', \n",
    "                      format='csv', header=True, schema= beerSchema)"
   ]
  },
  {
   "cell_type": "markdown",
   "metadata": {
    "application/vnd.databricks.v1+cell": {
     "cellMetadata": {
      "byteLimit": 2048000,
      "rowLimit": 10000
     },
     "inputWidgets": {},
     "nuid": "bd765193-2d82-4c5d-82a0-f486e5acf22f",
     "showTitle": false,
     "title": ""
    }
   },
   "source": [
    "## Preprocessing Data"
   ]
  },
  {
   "cell_type": "code",
   "execution_count": 0,
   "metadata": {
    "application/vnd.databricks.v1+cell": {
     "cellMetadata": {
      "byteLimit": 2048000,
      "rowLimit": 10000
     },
     "inputWidgets": {},
     "nuid": "293cc38a-ab0a-41ca-93d8-340ef601f18a",
     "showTitle": false,
     "title": ""
    }
   },
   "outputs": [
    {
     "output_type": "stream",
     "name": "stdout",
     "output_type": "stream",
     "text": [
      "\nNumber of Duplicated Reviews: 14274\n(Instance of the same person reviewing the same beer more than once.)\n\n"
     ]
    }
   ],
   "source": [
    "# Selecting requisite columns\n",
    "# Dropping any missing values in these columns \n",
    "\n",
    "taste_revs_raw = raw.select(f.col('review_profilename').alias('username'), \n",
    "                            'beer_beerid', 'review_taste', 'review_time')\\\n",
    "    .na.drop()\n",
    "\n",
    "# Checking for duplicated reviews\n",
    "n_dups = taste_revs_raw.groupBy([\"username\", \"beer_beerid\"]).count().filter(\"count > 1\").count()\n",
    "print(f'''\n",
    "Number of Duplicated Reviews: {n_dups}\n",
    "(Instance of the same person reviewing the same beer more than once.)\n",
    "''' )\n",
    "\n",
    "# Aggregating Duplicate Reviews \n",
    "taste_revs_raw = taste_revs_raw.groupBy(['username', 'beer_beerid'])\\\n",
    "        .agg(f.mean(f.col('review_taste')).alias('review_taste'), \n",
    "             f.mean(f.col('review_time')).alias('review_time'))"
   ]
  },
  {
   "cell_type": "code",
   "execution_count": 0,
   "metadata": {
    "application/vnd.databricks.v1+cell": {
     "cellMetadata": {
      "byteLimit": 2048000,
      "rowLimit": 10000
     },
     "inputWidgets": {},
     "nuid": "12e37434-2be3-4a47-bb9d-b469e31add2e",
     "showTitle": false,
     "title": ""
    }
   },
   "outputs": [],
   "source": [
    "# Getting MF Training set to extract beers\n",
    "time_cutoff = taste_revs_raw.select(f.percentile(f.col('review_time'), 0.8).alias('percentile')).first()['percentile']\n",
    "full_train = taste_revs_raw.filter(f.col('review_time') <= time_cutoff)\\\n",
    "    .select('username', 'beer_beerid', 'review_taste')\n"
   ]
  },
  {
   "cell_type": "code",
   "execution_count": 0,
   "metadata": {
    "application/vnd.databricks.v1+cell": {
     "cellMetadata": {
      "byteLimit": 2048000,
      "rowLimit": 10000
     },
     "inputWidgets": {},
     "nuid": "4d20bf31-ffe4-452a-af05-06182a3cf5f1",
     "showTitle": false,
     "title": ""
    }
   },
   "outputs": [],
   "source": [
    "### Setting the Min Reviews per Beer and Min number of reviews per User \n",
    "# Min number of total reviews per user \n",
    "minRevsPerUser = 5\n",
    "# Min number of reviews per beer \n",
    "minRevsPerBeer = 50\n",
    "\n",
    "# Getting IDs of beers above review cutoffs\n",
    "commonBeers = full_train.groupBy('beer_beerid').count()\\\n",
    "    .filter(f.col('count') > minRevsPerBeer).select('beer_beerid')\n",
    "\n",
    "# Getting usernames of experienced users (at or above cutoff)\n",
    "expUsers5 = taste_revs_raw.groupBy('username').count()\\\n",
    "    .filter(f.col('count') >= minRevsPerUser).select('username')\n",
    "\n",
    "# Removing beers and users through broadcast join (most efficient way)\n",
    "# Centering the Reviews by user\n",
    "knn_train = taste_revs_raw\\\n",
    "    .join(f.broadcast(commonBeers), 'beer_beerid', 'inner')\\\n",
    "        .join(f.broadcast(expUsers5), 'username', 'inner')\\\n",
    "            .withColumn('user_mean', f.expr('mean(review_taste) over (partition by username)'))\\\n",
    "                .withColumn('centered_rev', f.col('review_taste') - f.col('user_mean'))\n",
    "\n",
    "# Finally, adding a numeric index based on username\n",
    "strIndex = StringIndexer(inputCol = 'username', outputCol = 'user_id')\n",
    "knn_train_ind = strIndex.fit(knn_train).transform(knn_train)"
   ]
  },
  {
   "cell_type": "code",
   "execution_count": 0,
   "metadata": {
    "application/vnd.databricks.v1+cell": {
     "cellMetadata": {
      "byteLimit": 2048000,
      "rowLimit": 10000
     },
     "inputWidgets": {},
     "nuid": "c2d8832e-8a97-4578-aff6-b72cb170fc40",
     "showTitle": false,
     "title": ""
    }
   },
   "outputs": [
    {
     "output_type": "stream",
     "name": "stdout",
     "output_type": "stream",
     "text": [
      "Number of Users: 14754\nNumber of Beers: 4189\nNumber of Reviews: 1148235\n"
     ]
    }
   ],
   "source": [
    "# Display user, beer, and review count (slow)\n",
    "print(f'Number of Users: {knn_train_ind.select(\"username\").distinct().count()}')\n",
    "print(f'Number of Beers: {knn_train_ind.select(\"beer_beerid\").distinct().count()}')\n",
    "print(f'Number of Reviews: {knn_train_ind.count()}')"
   ]
  },
  {
   "cell_type": "markdown",
   "metadata": {
    "application/vnd.databricks.v1+cell": {
     "cellMetadata": {
      "byteLimit": 2048000,
      "rowLimit": 10000
     },
     "inputWidgets": {},
     "nuid": "b368b79c-5325-48d9-9a43-76db912d3294",
     "showTitle": false,
     "title": ""
    }
   },
   "source": [
    "## Calculating Distances through KNN"
   ]
  },
  {
   "cell_type": "code",
   "execution_count": 0,
   "metadata": {
    "application/vnd.databricks.v1+cell": {
     "cellMetadata": {
      "byteLimit": 2048000,
      "rowLimit": 10000
     },
     "inputWidgets": {},
     "nuid": "8e9e518d-152c-484c-ac8a-78cecaa1cd60",
     "showTitle": false,
     "title": ""
    }
   },
   "outputs": [
    {
     "output_type": "display_data",
     "data": {
      "application/vnd.jupyter.widget-view+json": {
       "model_id": "77f5b74c87094d66bbaa470b989d9a32",
       "version_major": 2,
       "version_minor": 0
      },
      "text/plain": [
       "Uploading artifacts:   0%|          | 0/5 [00:00<?, ?it/s]"
      ]
     },
     "metadata": {},
     "output_type": "display_data"
    }
   ],
   "source": [
    "# Import dependencies \n",
    "from sklearn.neighbors import NearestNeighbors\n",
    "from scipy.sparse import csr_matrix\n",
    "\n",
    "# Get pd df from pyspark df (KNN better through sklearn than pyspark)\n",
    "pd_train = knn_train_ind.toPandas()\n",
    "\n",
    "# Get user-item review matrix and fill Nas with 0\n",
    "uir = pd_train.pivot(index='beer_beerid', columns='user_id', values='centered_rev').fillna(0)\n",
    "# Get a sparse dataframe for more effient storage \n",
    "uir_sparse = csr_matrix(uir.values)\n",
    "\n",
    "# Initiate and Fit KNN\n",
    "knn_model = NearestNeighbors(metric='cosine', algorithm='brute', n_neighbors=11, n_jobs=-1)\n",
    "nbrs = knn_model.fit(uir_sparse)\n",
    "\n",
    "# Get 10 closest neighbors for each beer \n",
    "distances, indices = nbrs.kneighbors(uir_sparse)\n",
    "\n",
    "### Turn ID and Distance arrays into a df with one prediction per row \n",
    "idx_df = pd.DataFrame(indices).drop(columns=0, inplace=False)\n",
    "dis_df = pd.DataFrame(distances).drop(columns=0, inplace=False)\n",
    "\n",
    "# Get full neighbor df from distances and ids \n",
    "nbr_df = pd.DataFrame(data=[idx_df.values.tolist(), dis_df.values.tolist()], \n",
    "                      index=['nbrs_idx', 'nbrs_dis']).T\n",
    "\n",
    "# Get a list of id, distance tuples \n",
    "nbr_df['nbrs'] = nbr_df.apply(lambda x: list(zip(x.nbrs_idx, x.nbrs_dis)), axis=1)\n",
    "# Add original beer id as the index \n",
    "nbr_df['beer_beerid'] = uir.index\n",
    "\n",
    "# Turn the df back into a spark df for speed\n",
    "nbr_ps = spark.createDataFrame(nbr_df[['beer_beerid', 'nbrs']])\n",
    "\n",
    "# Explode DF and separate id and distances to columns \n",
    "nbr_ps = nbr_ps.select(f.col('beer_beerid'), f.explode(f.col('nbrs')).alias('nbr'))\\\n",
    "    .withColumn('nbr_idx', f.col('nbr').getItem(0))\\\n",
    "        .withColumn('nbr_dis', f.col('nbr').getItem(1))\\\n",
    "            .select(f.col('beer_beerid'), f.col('nbr_idx').cast('integer'), f.col('nbr_dis'))\n",
    "\n",
    "# Turn the matrix ids back into beer IDs for recommendations  \n",
    "idx_mappers = sc.broadcast({ idx:v for idx, v in enumerate(list(uir.index))})\n",
    "def mapIdx(x): return idx_mappers.value[x]\n",
    "mapUDF = f.udf(mapIdx, LongType())\n",
    "nbr_ps = nbr_ps.withColumn('nbr_id', mapUDF(f.col('nbr_idx')))\\\n",
    "    .select('beer_beerid', 'nbr_id', 'nbr_dis')\n",
    "\n",
    "# Get the list of beer ids, names and brewery names\n",
    "beer_mapper = raw.select('beer_beerid', 'brewery_name', 'beer_name').distinct()\n",
    "\n",
    "# Add both the home beer (beer recommendations are made for) \n",
    "# and the recommended beer names and breweries\n",
    "nbr_ps = nbr_ps.join(beer_mapper.hint('broadcast'), 'beer_beerid', 'left_outer')\\\n",
    "    .withColumnRenamed('beer_name', 'home_beer_name')\\\n",
    "        .withColumnRenamed('brewery_name', 'home_brewery_name')\\\n",
    "            .join(beer_mapper.hint('broadcast'), nbr_ps['nbr_id'] == beer_mapper['beer_beerid'], 'left_outer')\\\n",
    "                .withColumnRenamed('beer_name', 'rec_beer_name')\\\n",
    "                    .withColumnRenamed('brewery_name', 'rec_brewery_name')\\\n",
    "                        .drop('beer_beerid', 'nbr_id')\n",
    "\n",
    "# Finally, write the recommendations to file\n",
    "nbr_ps.write.option(\"header\",True)\\\n",
    "    .format(\"csv\") \\\n",
    "        .mode(\"overwrite\") \\\n",
    "            .save(new_rec_dir + \"/new_user_recommendations.csv\")\n"
   ]
  },
  {
   "cell_type": "markdown",
   "metadata": {
    "application/vnd.databricks.v1+cell": {
     "cellMetadata": {
      "byteLimit": 2048000,
      "rowLimit": 10000
     },
     "inputWidgets": {},
     "nuid": "e0f8142d-6371-44c2-a285-3f6716aae50f",
     "showTitle": false,
     "title": ""
    }
   },
   "source": [
    "## Display Examples of Predicted Ratings CSV \n",
    "\n",
    "Showing 20 examples of the recommendations by beer. Here, the 'home' beer is the beer the user indicated and the 'rec' beer is the beer that is recommened. The distance measure is also includeed to sort future queries. "
   ]
  },
  {
   "cell_type": "code",
   "execution_count": 0,
   "metadata": {
    "application/vnd.databricks.v1+cell": {
     "cellMetadata": {
      "byteLimit": 2048000,
      "rowLimit": 10000
     },
     "inputWidgets": {},
     "nuid": "e37b8465-55b0-4885-aa85-5fb97cea8a97",
     "showTitle": false,
     "title": ""
    }
   },
   "outputs": [
    {
     "output_type": "display_data",
     "data": {
      "text/html": [
       "<style scoped>\n",
       "  .table-result-container {\n",
       "    max-height: 300px;\n",
       "    overflow: auto;\n",
       "  }\n",
       "  table, th, td {\n",
       "    border: 1px solid black;\n",
       "    border-collapse: collapse;\n",
       "  }\n",
       "  th, td {\n",
       "    padding: 5px;\n",
       "  }\n",
       "  th {\n",
       "    text-align: left;\n",
       "  }\n",
       "</style><div class='table-result-container'><table class='table-result'><thead style='background-color: white'><tr><th>nbr_dis</th><th>home_brewery_name</th><th>home_beer_name</th><th>rec_brewery_name</th><th>rec_beer_name</th></tr></thead><tbody><tr><td>0.7763071020257143</td><td>Mayflower Brewing Company</td><td>Mayflower Pale Ale</td><td>Rapscallion</td><td>Rapscallion Blessing</td></tr><tr><td>0.8486765130271251</td><td>Broughton Ales Ltd</td><td>Merlin's Ale</td><td>Broughton Ales Ltd</td><td>Black Douglas Ale</td></tr><tr><td>0.904616244331192</td><td>Brouwerij Lindemans</td><td>Lindemans Cassis</td><td>Wells & Young's Ltd</td><td>Young's Waggledance Honey Ale</td></tr><tr><td>0.835189532943269</td><td>Highland Brewing</td><td>Highland Seven Sisters Abbey Style Ale</td><td>Dragonmead Microbrewery</td><td>Dragonmead Under The Kilt Wee Heavy</td></tr><tr><td>0.8854377301899683</td><td>Otter Creek Brewing / Wolaver's</td><td>Wolaver's Witbier</td><td>O'Fallon Brewery</td><td>Goats Breath Bock</td></tr><tr><td>0.7809727491170254</td><td>Sierra Nevada Brewing Co.</td><td>Sierra Nevada Pale Ale</td><td>Stone Brewing Co.</td><td>Arrogant Bastard Ale</td></tr><tr><td>0.9131872660285406</td><td>Bar Harbor Brewing Company</td><td>Thunder Hole Ale</td><td>Allagash Brewing Company</td><td>Allagash Victoria Ale</td></tr><tr><td>0.8928876304292988</td><td>Magic Hat Brewing Company</td><td>Hex</td><td>Harpoon Brewery</td><td>Harpoon Crystal Wheat</td></tr><tr><td>0.801079091753079</td><td>Brauerei Beck & Co.</td><td>Beck's Premier Light</td><td>Grupo Modelo S.A. de C.V.</td><td>Corona Light</td></tr><tr><td>0.8617217122118361</td><td>Sprecher Brewing Company</td><td>Abbey Triple</td><td>Bell's Brewery, Inc.</td><td>Bell's Wheat Six Ale</td></tr><tr><td>0.8588266234030765</td><td>Midnight Sun Brewing Co.</td><td>Cohoho Imperial IPA</td><td>Stone Brewing Co.</td><td>Stone 10th Anniversary IPA</td></tr><tr><td>0.7248725775120021</td><td>Brouwerij Drie Fonteinen</td><td>Drie Fonteinen Oude Geuze</td><td>Brasserie Cantillon</td><td>Cantillon Blåbær Lambik</td></tr><tr><td>0.8172266791450281</td><td>Brasserie Fantôme</td><td>Fantôme Pissenlit</td><td>Brouwerij Drie Fonteinen</td><td>Drie Fonteinen Oude Geuze</td></tr><tr><td>0.8494621507071429</td><td>Thomas Caffrey Brewing Co.</td><td>Caffrey's Irish Ale</td><td>Karlova&#267;ka Pivovara</td><td>Karlovacko</td></tr><tr><td>0.7741629616228386</td><td>Southern Tier Brewing Company</td><td>Choklat</td><td>Stone Brewing Co.</td><td>Stone Imperial Russian Stout</td></tr><tr><td>0.7640032743268923</td><td>Jolly Pumpkin Artisan Ales</td><td>Maracaibo Especial</td><td>Jolly Pumpkin Artisan Ales</td><td>Fuego Del Otono, Autumn Fire</td></tr><tr><td>0.9175502368897394</td><td>Dogfish Head Brewery</td><td>Saison Du BUFF</td><td>Old Dominion Brewing Company</td><td>Baltic Porter</td></tr><tr><td>0.8484527664949725</td><td>Allagash Brewing Company</td><td>Allagash Musette</td><td>Brouwerij Westvleteren (Sint-Sixtusabdij van Westvleteren)</td><td>Trappist Westvleteren 8</td></tr><tr><td>0.9105637043046371</td><td>Yuengling Brewery</td><td>Yuengling Bock</td><td>Boak Beverage</td><td>Boaks Two Blind Monks Ale</td></tr><tr><td>0.8573093596124393</td><td>Lake Placid Craft Brewing Company</td><td>46'er Pale Ale</td><td>Sea Dog Brewing Company</td><td>Sea Dog Old East India Pale Ale</td></tr></tbody></table></div>"
      ]
     },
     "metadata": {
      "application/vnd.databricks.v1+output": {
       "addedWidgets": {},
       "aggData": [],
       "aggError": "",
       "aggOverflow": false,
       "aggSchema": [],
       "aggSeriesLimitReached": false,
       "aggType": "",
       "arguments": {},
       "columnCustomDisplayInfos": {},
       "data": [
        [
         "0.7763071020257143",
         "Mayflower Brewing Company",
         "Mayflower Pale Ale",
         "Rapscallion",
         "Rapscallion Blessing"
        ],
        [
         "0.8486765130271251",
         "Broughton Ales Ltd",
         "Merlin's Ale",
         "Broughton Ales Ltd",
         "Black Douglas Ale"
        ],
        [
         "0.904616244331192",
         "Brouwerij Lindemans",
         "Lindemans Cassis",
         "Wells & Young's Ltd",
         "Young's Waggledance Honey Ale"
        ],
        [
         "0.835189532943269",
         "Highland Brewing",
         "Highland Seven Sisters Abbey Style Ale",
         "Dragonmead Microbrewery",
         "Dragonmead Under The Kilt Wee Heavy"
        ],
        [
         "0.8854377301899683",
         "Otter Creek Brewing / Wolaver's",
         "Wolaver's Witbier",
         "O'Fallon Brewery",
         "Goats Breath Bock"
        ],
        [
         "0.7809727491170254",
         "Sierra Nevada Brewing Co.",
         "Sierra Nevada Pale Ale",
         "Stone Brewing Co.",
         "Arrogant Bastard Ale"
        ],
        [
         "0.9131872660285406",
         "Bar Harbor Brewing Company",
         "Thunder Hole Ale",
         "Allagash Brewing Company",
         "Allagash Victoria Ale"
        ],
        [
         "0.8928876304292988",
         "Magic Hat Brewing Company",
         "Hex",
         "Harpoon Brewery",
         "Harpoon Crystal Wheat"
        ],
        [
         "0.801079091753079",
         "Brauerei Beck & Co.",
         "Beck's Premier Light",
         "Grupo Modelo S.A. de C.V.",
         "Corona Light"
        ],
        [
         "0.8617217122118361",
         "Sprecher Brewing Company",
         "Abbey Triple",
         "Bell's Brewery, Inc.",
         "Bell's Wheat Six Ale"
        ],
        [
         "0.8588266234030765",
         "Midnight Sun Brewing Co.",
         "Cohoho Imperial IPA",
         "Stone Brewing Co.",
         "Stone 10th Anniversary IPA"
        ],
        [
         "0.7248725775120021",
         "Brouwerij Drie Fonteinen",
         "Drie Fonteinen Oude Geuze",
         "Brasserie Cantillon",
         "Cantillon Blåbær Lambik"
        ],
        [
         "0.8172266791450281",
         "Brasserie Fantôme",
         "Fantôme Pissenlit",
         "Brouwerij Drie Fonteinen",
         "Drie Fonteinen Oude Geuze"
        ],
        [
         "0.8494621507071429",
         "Thomas Caffrey Brewing Co.",
         "Caffrey's Irish Ale",
         "Karlova&#267;ka Pivovara",
         "Karlovacko"
        ],
        [
         "0.7741629616228386",
         "Southern Tier Brewing Company",
         "Choklat",
         "Stone Brewing Co.",
         "Stone Imperial Russian Stout"
        ],
        [
         "0.7640032743268923",
         "Jolly Pumpkin Artisan Ales",
         "Maracaibo Especial",
         "Jolly Pumpkin Artisan Ales",
         "Fuego Del Otono, Autumn Fire"
        ],
        [
         "0.9175502368897394",
         "Dogfish Head Brewery",
         "Saison Du BUFF",
         "Old Dominion Brewing Company",
         "Baltic Porter"
        ],
        [
         "0.8484527664949725",
         "Allagash Brewing Company",
         "Allagash Musette",
         "Brouwerij Westvleteren (Sint-Sixtusabdij van Westvleteren)",
         "Trappist Westvleteren 8"
        ],
        [
         "0.9105637043046371",
         "Yuengling Brewery",
         "Yuengling Bock",
         "Boak Beverage",
         "Boaks Two Blind Monks Ale"
        ],
        [
         "0.8573093596124393",
         "Lake Placid Craft Brewing Company",
         "46'er Pale Ale",
         "Sea Dog Brewing Company",
         "Sea Dog Old East India Pale Ale"
        ]
       ],
       "datasetInfos": [],
       "dbfsResultPath": null,
       "isJsonSchema": true,
       "metadata": {},
       "overflow": false,
       "plotOptions": {
        "customPlotOptions": {},
        "displayType": "table",
        "pivotAggregation": null,
        "pivotColumns": null,
        "xColumns": null,
        "yColumns": null
       },
       "removedWidgets": [],
       "schema": [
        {
         "metadata": "{}",
         "name": "nbr_dis",
         "type": "\"string\""
        },
        {
         "metadata": "{}",
         "name": "home_brewery_name",
         "type": "\"string\""
        },
        {
         "metadata": "{}",
         "name": "home_beer_name",
         "type": "\"string\""
        },
        {
         "metadata": "{}",
         "name": "rec_brewery_name",
         "type": "\"string\""
        },
        {
         "metadata": "{}",
         "name": "rec_beer_name",
         "type": "\"string\""
        }
       ],
       "type": "table"
      }
     },
     "output_type": "display_data"
    }
   ],
   "source": [
    "# Load recommendations\n",
    "knn_recs = spark.read.load(path = new_rec_dir + '/new_user_recommendations.csv', \n",
    "                      format='csv', header=True)\n",
    "\n",
    "# Shuffle and display examples \n",
    "knn_recs.orderBy(f.rand()).limit(20).display()"
   ]
  }
 ],
 "metadata": {
  "application/vnd.databricks.v1+notebook": {
   "dashboards": [],
   "environmentMetadata": null,
   "language": "python",
   "notebookMetadata": {
    "pythonIndentUnit": 4
   },
   "notebookName": "john_romero_beer_knn_training",
   "widgets": {}
  }
 },
 "nbformat": 4,
 "nbformat_minor": 0
}
