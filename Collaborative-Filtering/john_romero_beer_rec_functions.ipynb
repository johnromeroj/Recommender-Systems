{
 "cells": [
  {
   "cell_type": "markdown",
   "metadata": {
    "application/vnd.databricks.v1+cell": {
     "cellMetadata": {
      "byteLimit": 2048000,
      "rowLimit": 10000
     },
     "inputWidgets": {},
     "nuid": "6f1221f3-abea-45f3-b986-97ac6ac61977",
     "showTitle": false,
     "title": ""
    }
   },
   "source": [
    "# Beer Recommendation Functions \n",
    "\n",
    "This notebook contains the necessary functions for the beer recommendation system. Note that these functions depend on the ALS model and KNN algorithm already been saved and their outputs saved as csv files.\n",
    "\n",
    "## Load Raw Data Function"
   ]
  },
  {
   "cell_type": "code",
   "execution_count": 0,
   "metadata": {
    "application/vnd.databricks.v1+cell": {
     "cellMetadata": {
      "byteLimit": 2048000,
      "rowLimit": 10000
     },
     "inputWidgets": {},
     "nuid": "fffc531b-1f2e-4a43-a588-fd97ad563ab6",
     "showTitle": false,
     "title": ""
    }
   },
   "outputs": [],
   "source": [
    "def load_raw():\n",
    "\n",
    "    '''\n",
    "    This function returns the raw data for the beer ratings dataset as a pyspark dataframe.\n",
    "    '''\n",
    "\n",
    "    # Import dependencies \n",
    "    from  pyspark.sql.types import StructField, StructType, StringType, LongType, FloatType\n",
    "    import pyspark.sql.functions as f \n",
    "\n",
    "    # Define the Data Dir \n",
    "    data_dir = 'dbfs:/FileStore/tables/Capstone/beer/data'   \n",
    "\n",
    "    # Beer Schema - column names and types (True means that columns are nullable)\n",
    "    beerSchema = StructType([\n",
    "        StructField('brewery_id', LongType(), True), \n",
    "        StructField('brewery_name', StringType(), True), \n",
    "        StructField('review_time', LongType(), True), \n",
    "        StructField('review_overall', FloatType(), True), \n",
    "        StructField('review_aroma', FloatType(), True), \n",
    "        StructField('review_apperance', FloatType(), True), \n",
    "        StructField('review_profilename', StringType(), True), \n",
    "        StructField('beer_style', StringType(), True), \n",
    "        StructField('review_palate', FloatType(), True), \n",
    "        StructField('review_taste', FloatType(), True), \n",
    "        StructField('beer_name', StringType(), True), \n",
    "        StructField('beer_abv', FloatType(), True), \n",
    "        StructField('beer_beerid', LongType(), True)\n",
    "    ]) \n",
    "    \n",
    "    # Load the raw data using fname and schema\n",
    "    raw = spark.read.load(path = data_dir + '/beer_reviews.csv', \n",
    "                          format='csv', \n",
    "                          header=True, schema= beerSchema)\n",
    "    \n",
    "    # Return DataFrame\n",
    "    return raw"
   ]
  },
  {
   "cell_type": "markdown",
   "metadata": {
    "application/vnd.databricks.v1+cell": {
     "cellMetadata": {
      "byteLimit": 2048000,
      "rowLimit": 10000
     },
     "inputWidgets": {},
     "nuid": "e0d83ef2-98cb-40b2-818a-215ea4655602",
     "showTitle": false,
     "title": ""
    }
   },
   "source": [
    "## Recommendations from Beer/Brewery\n",
    "\n",
    "This function returns the top 10 recommendations from a given beer name or brewery name. Names can be passed to the function when calling the function or through prompting the user."
   ]
  },
  {
   "cell_type": "code",
   "execution_count": 0,
   "metadata": {
    "application/vnd.databricks.v1+cell": {
     "cellMetadata": {
      "byteLimit": 2048000,
      "rowLimit": 10000
     },
     "inputWidgets": {},
     "nuid": "5e1fc081-f164-486f-8302-eedfbe559d0e",
     "showTitle": false,
     "title": ""
    }
   },
   "outputs": [],
   "source": [
    "def rec_from_name(name: str = None, brewery:str = None, prompt=True):\n",
    "\n",
    "    '''\n",
    "    Function to return recommendations for specific beers. \n",
    "    Can also return recommendations for other brewery's beers based on a brewery the user indicates.\n",
    "    Both beer and brewery can be specified for more precise matching. \n",
    "\n",
    "    Parameters: \n",
    "\n",
    "    name (str):     the name of the beer (case sensitive). Optional if brewery is indicated.\n",
    "    brewery (str):  the name of the brewery (case sensitive) Optional if beer is indicated.\n",
    "    prompt (bool):  whether to prompt user for beer/brewery\n",
    "    '''\n",
    "\n",
    "    # Import Dependencies\n",
    "    import pyspark.sql.functions as f\n",
    "\n",
    "    # Recommendations CSV Directory\n",
    "    rec_dir = 'dbfs:/FileStore/tables/Capstone/beer/beer_recs'\n",
    "    new_rec_dir = rec_dir + '/new'\n",
    "    \n",
    "    # Load csv of new user recommendations \n",
    "    # (Contains beer, recommended beer and the distance)\n",
    "    new_recs = spark.read.load(path = new_rec_dir + \"/new_user_recommendations.csv\", \n",
    "                      format='csv', header=True)\n",
    "    \n",
    "    # Whether to prompt the user for beer/brewery names\n",
    "    if prompt: \n",
    "        print(\"Please enter the name of the beer you'd like similar recommendations for. (Case Sensitive)\\nOr press enter to lookup by brewery.\")\n",
    "        name = input('')\n",
    "        print(\"If you'd like, input the name of the brewery, or press enter to skip.\")\n",
    "        brewery = input('')\n",
    "\n",
    "    ## Filtering recommendations for the best for specified beer/brewery\n",
    "    # If only beer is specified\n",
    "    if name not in [None, ''] and brewery in [None, '']:\n",
    "        beer_recs = new_recs.filter(f.col('home_beer_name') == name) \n",
    "    # If only brewery is specified \n",
    "    elif name in [None, ''] and brewery not in [None, '']: \n",
    "        beer_recs = new_recs.filter(f.col('home_brewery_name') == brewery) \n",
    "    # If both are specified\n",
    "    elif name not in [None, ''] and brewery not in [None, '']: \n",
    "        beer_recs = new_recs.filter((f.col('home_beer_name') == name) & (f.col('home_brewery_name') == brewery))\n",
    "    \n",
    "    # If the name is specified\n",
    "    if name not in [None, '']:\n",
    "        # Print the beer found in the database \n",
    "        found = beer_recs.select('home_beer_name', 'home_brewery_name').distinct().rdd.flatMap(list).collect()\n",
    "        print(f'\\nMaking Recommendations for:\\n\\t{found[0]} from {found[1]}')\n",
    "\n",
    "        # Order recommendations by the distance, select/rename the required columns \n",
    "        top10 = beer_recs.orderBy('nbr_dis', ascending=True)\\\n",
    "            .select(f.col('rec_brewery_name').alias('Brewery Name'), f.col('rec_beer_name')\\\n",
    "                .alias('Beer Name'))\n",
    "        \n",
    "        # Display the portion of the csv showing the recommendations \n",
    "        # (best way for now when it comes to formatting printing)\n",
    "        top10.display()\n",
    "    \n",
    "    else: \n",
    "        # Display the brewery found\n",
    "        found = beer_recs.select('home_brewery_name').distinct().rdd.flatMap(list).collect()\n",
    "        print(f'\\nMaking recommendations based on beers from:\\n\\t{found[0]}')\n",
    "        \n",
    "        # Order by distance, and select top 10 beers recommended considering all beers in specified brewery\n",
    "        top10 = beer_recs.filter(f.col('rec_brewery_name') != brewery)\\\n",
    "            .orderBy(f.col('nbr_dis'))\\\n",
    "                .select(f.col('rec_beer_name').alias('Beer Name'), \n",
    "                        f.col('rec_brewery_name').alias('Brewery Name')).limit(10)\n",
    "        # Display top 10 recommendations\n",
    "        top10.display()"
   ]
  },
  {
   "cell_type": "markdown",
   "metadata": {
    "application/vnd.databricks.v1+cell": {
     "cellMetadata": {
      "byteLimit": 2048000,
      "rowLimit": 10000
     },
     "inputWidgets": {},
     "nuid": "4ade7e4c-bb3f-4d7e-8c17-55279afb12fe",
     "showTitle": false,
     "title": ""
    }
   },
   "source": [
    "## Recommendations from Username\n",
    "\n",
    "This function checks the user's experience and returns the top 5 recommendations for the experienced users (positively rated at least 3 beers). Inexperienced users get 10 recommendations for all beers they've positively rated so far. If no beers have been positively rated, a message is printed, the same occurs if the username has no previous ratings at all.  "
   ]
  },
  {
   "cell_type": "code",
   "execution_count": 0,
   "metadata": {
    "application/vnd.databricks.v1+cell": {
     "cellMetadata": {
      "byteLimit": 2048000,
      "rowLimit": 10000
     },
     "inputWidgets": {},
     "nuid": "2dc1661c-73d9-47c9-90ba-99b7d473d08b",
     "showTitle": false,
     "title": ""
    }
   },
   "outputs": [],
   "source": [
    "def get_exp_rec():\n",
    "\n",
    "    '''Function to return recommendations for a given username. \n",
    "    Takes no parameters, though prompts for a username (not case sensitive).\n",
    "    Calls rec_from_name on positviely rated beers by user if less than 3 are positively rated.'''\n",
    "\n",
    "    # Import dependencies \n",
    "    import pyspark.sql.functions as f\n",
    "\n",
    "    # Experienced Users ratings directory\n",
    "    rec_dir = 'dbfs:/FileStore/tables/Capstone/beer/beer_recs'\n",
    "    exp_rec_dir = rec_dir + '/experienced'\n",
    "    \n",
    "    # Prompt the user for the username\n",
    "    print('Please Type Username (not case sensitive):')\n",
    "    username = input('')\n",
    "    print(f'Making Recommendations for: {username}')\n",
    "\n",
    "    # Load recommendations for experienced users\n",
    "    exp_recs = spark.read.load(path = exp_rec_dir + '/exp_user_recommendations.csv', \n",
    "                      format='csv', header=True)\n",
    "    \n",
    "    # Filter by the username, get the top 5 ratings, select required columns\n",
    "    user_recs = exp_recs.filter(f.col('username') == username.lower())\\\n",
    "        .orderBy(f.col('predRating')).limit(5)\\\n",
    "            .select(f.col('brewery_name').alias('Brewery'), \n",
    "                    f.col('beer_name').alias('Beer'))\n",
    "    \n",
    "    # IF there are no recommendations for the user \n",
    "    if user_recs.count() == 0: \n",
    "        # Check if they exist in the system\n",
    "        raw = load_raw()\n",
    "        raw = raw.select('*', f.lower(f.col('review_profilename')))\n",
    "        user_revs = raw.filter(f.col(\"lower(review_profilename)\") == username)\n",
    "\n",
    "        # If the user has no reviews \n",
    "        if user_revs.count() == 0:\n",
    "            # User not found message\n",
    "            print(f'Username {username} not in Database')\n",
    "            return\n",
    "        else: \n",
    "            # If the user has no positive reviews \n",
    "            pos_revs = user_revs.filter(f.col('review_taste') >= 3)\n",
    "            if pos_revs.count() == 0: \n",
    "                # Unable to recommend, they can search by name\n",
    "                print('Not enough beers rated positively for recommendations.\\nPlease rate more beers for personalized recommendations.')\n",
    "            else: \n",
    "                # Run rec_from_name on all positive ratings from user if they have any \n",
    "                print('Cannot make personalized recommendations (too few positively rated beers).\\nRecommending based on all positively rated beers by user:')\n",
    "                liked_beers = pos_revs.select(f.col('beer_name')).distinct().rdd.flatMap(list).collect()\n",
    "                for b in liked_beers: \n",
    "                    # Here, the recommendations by name function can be run without prompting the user\n",
    "                    rec_from_name(name = b, prompt=False)\n",
    "    else: \n",
    "        # Display top 10 recommendations for experienced users\n",
    "        user_recs.display()"
   ]
  },
  {
   "cell_type": "markdown",
   "metadata": {
    "application/vnd.databricks.v1+cell": {
     "cellMetadata": {
      "byteLimit": 2048000,
      "rowLimit": 10000
     },
     "inputWidgets": {},
     "nuid": "35216af0-e09f-49e9-a384-5d05219c4632",
     "showTitle": false,
     "title": ""
    }
   },
   "source": [
    "## Wrapper Function for System\n",
    "\n",
    "This function is the main function used by users of the system. Asks if the user wants recommendations for username or beer/brewery name. Then, runs the apporpriate function for either type of user. "
   ]
  },
  {
   "cell_type": "code",
   "execution_count": 0,
   "metadata": {
    "application/vnd.databricks.v1+cell": {
     "cellMetadata": {
      "byteLimit": 2048000,
      "rowLimit": 10000
     },
     "inputWidgets": {},
     "nuid": "abf1d9da-e880-4062-8048-79a142b085f1",
     "showTitle": false,
     "title": ""
    }
   },
   "outputs": [],
   "source": [
    "def make_recommendations(): \n",
    "\n",
    "   '''\n",
    "   Function to make recommendations by username or by beer name.\n",
    "   Wrapper for the functions `get_exp_rec` and `rec_from_name`.\n",
    "   '''\n",
    "\n",
    "   # Prompting user for recommendation types, reprompts if the input is invalid.\n",
    "   user = 0\n",
    "   while user not in [1,2]: \n",
    "      print('''\n",
    "Select on option (1/2):\n",
    "   1. Recommendations by username.\n",
    "   2. Beer/Brewery specific recommendations.\n",
    "            ''')\n",
    "      user = input(\"\")\n",
    "      try: user = int(user)\n",
    "      except: \n",
    "         user = 0\n",
    "\n",
    "   # For usernames, simply runs the appropriate function\n",
    "   if user == 1: \n",
    "      print('Making recommendations by username.')\n",
    "      get_exp_rec()\n",
    "   # For beer names, runs the correct function\n",
    "   elif user == 2: \n",
    "      print('Making item-specific recommendations.')\n",
    "      # Note prompt here is used to ask the user for the names\n",
    "      rec_from_name(prompt=True)"
   ]
  }
 ],
 "metadata": {
  "application/vnd.databricks.v1+notebook": {
   "dashboards": [],
   "environmentMetadata": null,
   "language": "python",
   "notebookMetadata": {
    "pythonIndentUnit": 4
   },
   "notebookName": "john_romero_beer_rec_functions",
   "widgets": {}
  }
 },
 "nbformat": 4,
 "nbformat_minor": 0
}
